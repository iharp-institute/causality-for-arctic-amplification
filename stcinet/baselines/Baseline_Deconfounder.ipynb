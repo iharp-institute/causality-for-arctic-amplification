{
  "cells": [
    {
      "cell_type": "markdown",
      "metadata": {
        "id": "jdRdTOsz9raL"
      },
      "source": [
        "## Initial Setup"
      ]
    },
    {
      "cell_type": "code",
      "execution_count": null,
      "metadata": {
        "id": "U0pzwDXw9p0l"
      },
      "outputs": [],
      "source": [
        "import os\n",
        "import math\n",
        "import glob\n",
        "import numpy as np\n",
        "import pandas as pd\n",
        "from math import sqrt\n",
        "import tensorflow as tf\n",
        "import matplotlib.pyplot as plt\n",
        "from keras.models import Sequential\n",
        "from tensorflow.keras.optimizers import Adam\n",
        "from tensorflow.keras.layers import Input, Dense, LSTM, RepeatVector, Dropout\n",
        "from tensorflow.keras.layers import Concatenate, TimeDistributed\n",
        "from sklearn.preprocessing import MinMaxScaler, StandardScaler\n",
        "from sklearn.metrics import mean_squared_error\n",
        "from sklearn.model_selection import train_test_split\n",
        "from keras.callbacks import EarlyStopping, ModelCheckpoint\n",
        "from tensorflow.keras import regularizers\n",
        "from tensorflow.keras import Model\n",
        "from tensorflow.keras.losses import Loss"
      ]
    },
    {
      "cell_type": "markdown",
      "source": [
        "## Dataset generation\n",
        "\n",
        "These cells can be skipped if data is already generated and stored in npy format."
      ],
      "metadata": {
        "id": "-3Lmi9--TqWv"
      }
    },
    {
      "cell_type": "code",
      "execution_count": null,
      "metadata": {
        "id": "9b1de778"
      },
      "outputs": [],
      "source": [
        "import numpy as np\n",
        "import scipy.ndimage\n",
        "import matplotlib.pyplot as plt\n",
        "\n",
        "# Parameters\n",
        "Lx = 10.0      # Length of the domain in the x direction\n",
        "Ly = 10.0      # Length of the domain in the y direction\n",
        "Nx = 28        # Number of spatial points in the x direction\n",
        "Ny = 28        # Number of spatial points in the y direction\n",
        "Nt = 4000      # Number of time steps\n",
        "D_a = 0.01     # Diffusion coefficient for variable a\n",
        "D_b = 0.01     # Diffusion coefficient for variable b\n",
        "D_c = 0.01     # Diffusion coefficient for variable c (combination of a and b)\n",
        "alpha = 0.1    # Influence of variable_a on variable_b\n",
        "beta = 0.2     # Coefficient for variable_a in variable_c\n",
        "gamma = 0.3    # Coefficient for variable_b in variable_c\n",
        "neighborhood_size = 3  # Size of the neighborhood for convolution\n",
        "lag_a = 1      # Lag for variable_a\n",
        "lag_b = 1      # Lag for variable_b\n",
        "update_factor_b = 0.6  # Update factor for variable_b\n",
        "\n",
        "# Spatial and temporal discretization\n",
        "x = np.linspace(0, Lx, Nx)\n",
        "y = np.linspace(0, Ly, Ny)\n",
        "X, Y = np.meshgrid(x, y)\n",
        "dx = x[1] - x[0]\n",
        "dy = y[1] - y[0]\n",
        "\n",
        "# Time discretization\n",
        "dt = 0.01      # Time step\n",
        "t = np.linspace(0, Nt * dt, Nt)\n",
        "\n",
        "# Initialize variables\n",
        "variable_a = np.zeros((Nt, Nx, Ny))\n",
        "variable_b = np.zeros((Nt, Nx, Ny))\n",
        "variable_b_cf = np.zeros((Nt, Nx, Ny))\n",
        "variable_c = np.zeros((Nt, Nx, Ny))\n",
        "variable_c_cf = np.zeros((Nt, Nx, Ny))\n",
        "\n",
        "# Initial conditions\n",
        "variable_a[0, :, :] = np.exp(-((X - Lx/2)**2 + (Y - Ly/2)**2) / 4)\n",
        "variable_b[0, :, :] = np.sin(np.pi * X / Lx) + alpha * variable_a[0, :, :]\n",
        "#variable_b_cf[0, :, :] = np.cos(np.pi * X / Lx) + alpha * variable_a[0, :, :]\n",
        "variable_c[0, :, :] = beta * variable_a[0, :, :] + gamma * variable_b[0, :, :]\n",
        "variable_c_cf[0, :, :] = beta * variable_a[0, :, :] + gamma * variable_b[0, :, :]\n",
        "\n",
        "# Time-stepping loop\n",
        "for n in range(1, Nt):\n",
        "    # Diffusion Equation for variable_a with time lag\n",
        "    laplacian_a = (np.roll(variable_a[n-1, :, :], 1, axis=1) - 2 * variable_a[n-1, :, :] + np.roll(variable_a[n-1, :, :], -1, axis=1)) / dx**2 + \\\n",
        "                   (np.roll(variable_a[n-1, :, :], 1, axis=0) - 2 * variable_a[n-1, :, :] + np.roll(variable_a[n-1, :, :], -1, axis=0)) / dy**2\n",
        "    diffusion_term_a = D_a * laplacian_a\n",
        "    variable_a[n, :, :] = variable_a[n-1, :, :] + dt * diffusion_term_a\n",
        "\n",
        "    # Diffusion Equation for variable_b with time lag and dependence on lagged variable_a\n",
        "    laplacian_b = (np.roll(variable_b[n-1, :, :], 1, axis=1) - 2 * variable_b[n-1, :, :] + np.roll(variable_b[n-1, :, :], -1, axis=1)) / dx**2 + \\\n",
        "                   (np.roll(variable_b[n-1, :, :], 1, axis=0) - 2 * variable_b[n-1, :, :] + np.roll(variable_b[n-1, :, :], -1, axis=0)) / dy**2\n",
        "    diffusion_term_b = D_b * laplacian_b\n",
        "    variable_b[n, :, :] = (variable_b[n-1, :, :] + dt * (diffusion_term_b + alpha * np.roll(diffusion_term_a, lag_a, axis=(0, 1))))\n",
        "    variable_b_cf[n, :, :] = (variable_b[n-1, :, :] + dt * (diffusion_term_b + alpha * np.roll(diffusion_term_a, lag_a, axis=(0, 1))))\n",
        "\n",
        "    variable_b_cf[n,10:15,10:15] = update_factor_b * variable_b_cf[n,10:15,10:15]\n",
        "\n",
        "    # Convolution to compute the mean of per-pixel neighborhood of variable_b (excluding the pixel itself)\n",
        "    kernel_size = 3\n",
        "    neighborhood_sum = scipy.ndimage.convolve(variable_b[n, :, :], np.ones((kernel_size, kernel_size)), mode='constant', cval=0)\n",
        "    neighborhood_mean = (neighborhood_sum - variable_b[n, :, :]) / (kernel_size**2 - 1)\n",
        "\n",
        "    # Diffusion Equation for variable_c with time lag and dependence on lagged variable_a and lagged variable_b\n",
        "    laplacian_c = (np.roll(variable_c[n-1, :, :], 1, axis=1) - 2 * variable_c[n-1, :, :] + np.roll(variable_c[n-1, :, :], -1, axis=1)) / dx**2 + \\\n",
        "                   (np.roll(variable_c[n-1, :, :], 1, axis=0) - 2 * variable_c[n-1, :, :] + np.roll(variable_c[n-1, :, :], -1, axis=0)) / dy**2\n",
        "    diffusion_term_c = D_c * laplacian_c\n",
        "    variable_c[n, :, :] = variable_c[n-1, :, :] + dt * diffusion_term_c + beta * dt * np.roll(diffusion_term_a, lag_a, axis=(0, 1)) + gamma * dt * (np.roll(variable_b[n, :, :], lag_b, axis=(0, 1)) + neighborhood_mean)\n",
        "\n",
        "#variable_b_cf = np.copy(variable_b)\n",
        "#variable_b_cf[:,10:20,10:20] = variable_b_cf[:,10:20,10:20] * 1.5\n",
        "\n",
        "for n in range(1, Nt):\n",
        "  # Diffusion Equation for variable_c with time lag and dependence on lagged variable_a and lagged variable_b\n",
        "    laplacian_cf = (np.roll(variable_c_cf[n-1, :, :], 1, axis=1) - 2 * variable_c_cf[n-1, :, :] + np.roll(variable_c_cf[n-1, :, :], -1, axis=1)) / dx**2 + \\\n",
        "                   (np.roll(variable_c_cf[n-1, :, :], 1, axis=0) - 2 * variable_c_cf[n-1, :, :] + np.roll(variable_c_cf[n-1, :, :], -1, axis=0)) / dy**2\n",
        "    diffusion_term_cf = D_c * laplacian_cf\n",
        "    variable_c_cf[n, :, :] = variable_c_cf[n-1, :, :] + dt * diffusion_term_cf + beta * dt * np.roll(diffusion_term_a, lag_a, axis=(0, 1)) + gamma * dt * (np.roll(variable_b_cf[n, :, :], lag_b, axis=(0, 1)) + neighborhood_mean)\n"
      ]
    },
    {
      "cell_type": "code",
      "source": [
        "from copy import copy, deepcopy\n",
        "\n",
        "a = variable_a.reshape(4000, 28, 28, 1)\n",
        "b = variable_b.reshape(4000, 28, 28, 1)\n",
        "c = variable_c.reshape(4000, 28, 28, 1)\n",
        "c_cf = variable_c_cf.reshape(4000, 28, 28, 1)\n",
        "\n",
        "b_tr = deepcopy(b)\n",
        "b_tr[:,10:15,10:15,0] = b_tr[:,10:15,10:15,0]*0.6\n",
        "\n",
        "data_wouts = np.concatenate([a, b, c, b_tr, c_cf], 3)\n",
        "print(data_wouts.shape)"
      ],
      "metadata": {
        "id": "uRddXGQKO6CD",
        "colab": {
          "base_uri": "https://localhost:8080/"
        },
        "outputId": "b4c5c37d-be4c-4dee-f704-ea1dd0bfbe13"
      },
      "execution_count": null,
      "outputs": [
        {
          "output_type": "stream",
          "name": "stdout",
          "text": [
            "(4000, 28, 28, 5)\n"
          ]
        }
      ]
    },
    {
      "cell_type": "code",
      "source": [
        "idx = np.where((b - b_tr) > 0)"
      ],
      "metadata": {
        "colab": {
          "base_uri": "https://localhost:8080/"
        },
        "id": "ZuQngIXQUbFp",
        "outputId": "5482d2ac-0cdc-479a-a86e-f0ff03030677"
      },
      "execution_count": null,
      "outputs": [
        {
          "output_type": "execute_result",
          "data": {
            "text/plain": [
              "(100000,)"
            ]
          },
          "metadata": {},
          "execution_count": 33
        }
      ]
    },
    {
      "cell_type": "markdown",
      "source": [
        "Padding zeros to make data divisible into chunks of 5x5"
      ],
      "metadata": {
        "id": "KxLF_E84iUaQ"
      }
    },
    {
      "cell_type": "code",
      "source": [
        "data_wouts_30 = np.zeros((4000,30,30,5))\n",
        "data_wouts_30[:,:28,:28,:] = data_wouts"
      ],
      "metadata": {
        "id": "CCbxA35eQVde"
      },
      "execution_count": null,
      "outputs": []
    },
    {
      "cell_type": "markdown",
      "metadata": {
        "id": "L8VX5KkQ_FX6"
      },
      "source": [
        "## Callable Functions\n",
        "\n",
        "\n",
        "\n"
      ]
    },
    {
      "cell_type": "code",
      "execution_count": null,
      "metadata": {
        "id": "ZZeU3gJd1S95"
      },
      "outputs": [],
      "source": [
        "\"\"\"\n",
        "This function add lags to the dataset and divides data into different features\n",
        "\n",
        "Input: dataset, lag and the indexes of the variables identified at treatment and target\n",
        "Output: Individual features such as lagged treatment, treatment history, covariates history, target history, target and counterfactual values\n",
        "\"\"\"\n",
        "\n",
        "def lagged_data_parser(data, lag, tr_id, target_id,cf_id=-1):\n",
        "  tr = data[1:-lag,:, :, tr_id]\n",
        "  tr_hist = data[:-(lag+1),:,:,tr_id]\n",
        "  #extracting covariates as remaining variables\n",
        "  temp = data.copy()\n",
        "  temp = np.delete(temp,(tr_id,target_id,3,cf_id), 3)\n",
        "  cov = temp[:-(lag+1),:,:,:]\n",
        "  cov = cov.reshape(cov.shape[:-1])\n",
        "  target_hist = data[:-(lag+1),:,:,target_id] #this variable helps in time-series forecasting as an input feature\n",
        "  target = data[lag+1:,:,:,target_id] #factual data\n",
        "  cf = data[lag+1:,:,:,cf_id] # counterfactual data\n",
        "  tr_treated = data[1:-lag,:, :, 3]\n",
        "  return tr, tr_hist, cov, target_hist, target, cf, tr_treated"
      ]
    },
    {
      "cell_type": "code",
      "source": [
        "#convert data into 5x5 block and flatten\n",
        "def transform_5x5_block(tr, tr_hist, cov, target_hist, target, cf, tr_treated):\n",
        "  tr_5x5, tr_hist_5x5, cov_5x5, target_hist_5x5, target_5x5, cf_5x5, tr_treated_5x5 = [np.zeros((3998*36,5,5,1)) for _ in range(7)]\n",
        "  count = 0\n",
        "  for i in range (tr.shape[0]):\n",
        "    for j in range(6):\n",
        "      for k in range(6):\n",
        "        x=j*5\n",
        "        y=k*5\n",
        "        #print(count, i, x, y)\n",
        "        tr_5x5[count,:,:,0]=tr[i,x:x+5,y:y+5]\n",
        "        tr_hist_5x5[count,:,:,0]=tr_hist[i,x:x+5,y:y+5]\n",
        "        cov_5x5[count,:,:,0]=cov[i,x:x+5,y:y+5]\n",
        "        target_hist_5x5[count,:,:,0]=target_hist[i,x:x+5,y:y+5]\n",
        "        target_5x5[count,:,:,0]=target[i,x:x+5,y:y+5]\n",
        "        cf_5x5[count,:,:,0]=cf[i,x:x+5,y:y+5]\n",
        "        tr_treated_5x5[count,:,:,0]=tr_treated[i,x:x+5,y:y+5]\n",
        "        count=count+1\n",
        "  return tr_5x5, tr_hist_5x5, cov_5x5, target_hist_5x5, target_5x5, cf_5x5, tr_treated_5x5"
      ],
      "metadata": {
        "id": "VilS7EDMTtab"
      },
      "execution_count": null,
      "outputs": []
    },
    {
      "cell_type": "markdown",
      "metadata": {
        "id": "katHrPcibdbu"
      },
      "source": [
        "###Concatenate history block and intervention block"
      ]
    },
    {
      "cell_type": "code",
      "source": [
        "def intervention_data_loader(tr, tr_hist, target_hist, cov):\n",
        "\n",
        "  hist = np.concatenate([tr_hist, cov], 2) #joint history of treatment and covariates\n",
        "  inter = np.concatenate([tr, target_hist], 2) #treatment and target history\n",
        "  print(hist.shape, inter.shape)\n",
        "  return hist, inter"
      ],
      "metadata": {
        "id": "n3lJbdUcZYme"
      },
      "execution_count": null,
      "outputs": []
    },
    {
      "cell_type": "markdown",
      "metadata": {
        "id": "lWyDrrpAQ74Q"
      },
      "source": [
        "### Train Validation Split"
      ]
    },
    {
      "cell_type": "code",
      "source": [
        "# Copy last 30% sequential data for test and for treatment\n",
        "\n",
        "def train_test_treat_splitter(hist, inter, target, tr_treated):\n",
        "  hist_train = hist\n",
        "  inter_train = inter\n",
        "  target_train = target\n",
        "\n",
        "  hist_test = hist\n",
        "  inter_test = inter\n",
        "  target_test = target #target is last column\n",
        "\n",
        "  #Create treated and untreated versions of test data\n",
        "  treated = inter_test.copy()\n",
        "  treated[:,:,0] = tr_treated[:,:,0] #increasing the treatment by 10%\n",
        "\n",
        "  print('hist.shape:',hist.shape)\n",
        "  print('inter.shape:',inter.shape)\n",
        "  print('target.shape:',target.shape)\n",
        "  print('hist_test.shape:',hist_test.shape)\n",
        "  print('inter_test.shape:',inter_test.shape)\n",
        "  print('target_test.shape:',target_test.shape)\n",
        "  print('treated.shape:',treated.shape)\n",
        "\n",
        "  return hist_train, inter_train, target_train, hist_test, inter_test, target_test, treated"
      ],
      "metadata": {
        "id": "UyBqoTF1Z_hL"
      },
      "execution_count": null,
      "outputs": []
    },
    {
      "cell_type": "markdown",
      "metadata": {
        "id": "-TOp3WLtJ6xJ"
      },
      "source": [
        "### Normalization\n"
      ]
    },
    {
      "cell_type": "code",
      "execution_count": null,
      "metadata": {
        "id": "X9nc-dTGJ8qr"
      },
      "outputs": [],
      "source": [
        "# normalize the features\n",
        "#features = 4\n",
        "def data_normalizer(hist, hist_test, inter, inter_test, treated, target, target_test):\n",
        "  scaler_f = StandardScaler()\n",
        "  hist_n = scaler_f.fit_transform(hist.reshape(-1,hist.shape[2])) #reshaping to 2d for standard scaling\n",
        "  hist_test_n = scaler_f.transform(hist_test.reshape(-1,hist.shape[2])) #reshaping to 2d for standard scaling\n",
        "  hist_n = hist_n.reshape(hist.shape)\n",
        "  hist_test_n = hist_test_n.reshape(hist_test.shape)\n",
        "\n",
        "  scaler_tr = StandardScaler()\n",
        "  inter_n = scaler_tr.fit_transform(inter.reshape(-1,inter.shape[2])) #reshaping to 2d for standard scaling\n",
        "  inter_test_n = scaler_tr.transform(inter_test.reshape(-1,inter.shape[2])) #reshaping to 2d for standard scaling\n",
        "  treated_n = scaler_tr.transform(treated.reshape(-1,2)) #reshaping to 2d for standard scaling\n",
        "  inter_n = inter_n.reshape(inter.shape)\n",
        "  inter_test_n = inter_test_n.reshape(inter_test.shape)\n",
        "  treated_n = treated_n.reshape(treated.shape)\n",
        "\n",
        "  scaler_l = StandardScaler()\n",
        "  target_n = scaler_l.fit_transform(target.reshape(-1,1)) #reshaping to 2d for standard scaling\n",
        "  target_test_n = scaler_l.transform(target_test.reshape(-1,1)) #reshaping to 2d for standard scaling\n",
        "  target_n = target_n.reshape(target.shape[:-1])\n",
        "  target_test_n = target_test_n.reshape(target_test.shape[:-1])\n",
        "  return scaler_f, scaler_tr, scaler_l, hist_n, hist_test_n, inter_n, inter_test_n, treated_n, target_n, target_test_n"
      ]
    },
    {
      "cell_type": "markdown",
      "metadata": {
        "id": "8V9PlIs8OUUM"
      },
      "source": [
        "### Reshaping Input and Target Features"
      ]
    },
    {
      "cell_type": "code",
      "execution_count": null,
      "metadata": {
        "id": "v8qmWF4VHxrR"
      },
      "outputs": [],
      "source": [
        "# convert an array of values into a dataset matrix\n",
        "def reshape_features(dataset, timesteps=1):\n",
        "    print(dataset.shape)\n",
        "    X = dataset.reshape((int(dataset.shape[0]/timesteps)), timesteps, dataset.shape[1])\n",
        "    return X"
      ]
    },
    {
      "cell_type": "markdown",
      "metadata": {
        "id": "Dwu-jlmj5kgm"
      },
      "source": [
        "### Specifying the loss function"
      ]
    },
    {
      "cell_type": "code",
      "execution_count": null,
      "metadata": {
        "id": "YZWkr66c5nUm"
      },
      "outputs": [],
      "source": [
        "# We will use the MSE loss function as base loss\n",
        "loss_fn = tf.keras.losses.MeanSquaredError() #specify the loss"
      ]
    },
    {
      "cell_type": "markdown",
      "metadata": {
        "id": "HRaNlUDXr7Qt"
      },
      "source": [
        "### Building Model"
      ]
    },
    {
      "cell_type": "code",
      "execution_count": null,
      "metadata": {
        "id": "vK5w69FBJZE2"
      },
      "outputs": [],
      "source": [
        "def build_mtcinet_model(input1_shape, input2_shape, out_dim1, out_dim2, loss):\n",
        "  input1 = Input(shape=input1_shape)\n",
        "  input2 = Input(shape=input2_shape)\n",
        "\n",
        "  model1_enc = LSTM(64, return_sequences=True)(input1)\n",
        "  model1_enc = Dropout(0.2)(model1_enc)\n",
        "  model1_enc = LSTM(32, return_sequences=False)(model1_enc)\n",
        "  phi = Dense(16)(model1_enc)\n",
        "\n",
        "  model1_dec = RepeatVector(25)(phi)\n",
        "  model1_dec = LSTM(64, return_sequences=True)(model1_dec)\n",
        "  history = LSTM(out_dim1, return_sequences=True)(model1_dec)\n",
        "\n",
        "  model2 = LSTM(64, return_sequences=True)(input2)\n",
        "  model2 = Dropout(0.2)(model2)\n",
        "  model2 = LSTM(32, return_sequences=False)(model2)\n",
        "  #model2 = Attention()(model2)\n",
        "  omega = Dense(16)(model2)\n",
        "\n",
        "  merger = Concatenate(axis=1)([phi, omega])\n",
        "  merged_model = Dense(16)(merger)\n",
        "  outcome = Dense(out_dim2, name=\"outcome\")(merged_model)\n",
        "  model = Model(inputs=[input1,input2], outputs=[history, outcome])\n",
        "  #Compiling the network\n",
        "  model.compile(loss=loss, optimizer='adam')\n",
        "  return model"
      ]
    },
    {
      "cell_type": "markdown",
      "metadata": {
        "id": "kuWonWytmKzY"
      },
      "source": [
        "## Train Model Block"
      ]
    },
    {
      "cell_type": "code",
      "source": [
        "#file = 'synthetic_data_nonlinear_continuous_lag5.csv'\n",
        "#data = data_loader(file)\n",
        "data = data_wouts_30\n",
        "\n",
        "# Input to take from user on the given dataset\n",
        "is_synth_data = 1 #flag to check if data is synthetic. Modules dont search for or read cf variable in case of real dataset\n",
        "lag = 1\n",
        "tr_factor = 0.6# 1.1 #multiplicative factor for treatment\n",
        "tr_id = 1\n",
        "target_id = 2\n",
        "timesteps = 1 #window size for Model\n",
        "\n",
        "print(\"--------------------------------------------------------------------------\")\n",
        "print(\"Running experiment for Treatment_ID: \"+str(tr_id)+\" and Outcome_ID: \"+ str(target_id))\n",
        "print(\"--------------------------------------------------------------------------\")\n",
        "\n",
        "#Create a 4 by 4 Adjacency Matrix to Store the ATE values\n",
        "#ate_matrix = np.zeros((data.shape[1]-1, data.shape[1]-1))\n",
        "#print(ate_matrix)\n",
        "\n",
        "tr, tr_hist, cov, target_hist, target, cf, tr_treated = lagged_data_parser(data, lag, tr_id, target_id, cf_id=-1) # add lag to treatment and target\n",
        "print(tr.shape, tr_hist.shape, cov.shape, target_hist.shape, target.shape, cf.shape, tr_treated.shape)\n",
        "\n",
        "# create 5x5 data block\n",
        "tr_5x5, tr_hist_5x5, cov_5x5, target_hist_5x5, target_5x5, cf_5x5, tr_treated_5x5 = transform_5x5_block(tr, tr_hist, cov, target_hist, target, cf, tr_treated)\n",
        "\n",
        "#flatten the 5x5 into 25 timesteps\n",
        "tr_5x5_f = tr_5x5.reshape(tr_5x5.shape[0], -1, tr_5x5.shape[3])\n",
        "tr_hist_5x5_f = tr_hist_5x5.reshape(tr_hist_5x5.shape[0], -1, tr_hist_5x5.shape[3])\n",
        "cov_5x5_f = cov_5x5.reshape(cov_5x5.shape[0], -1, cov_5x5.shape[3])\n",
        "target_hist_5x5_f = target_hist_5x5.reshape(target_hist_5x5.shape[0], -1, target_hist_5x5.shape[3])\n",
        "target_5x5_f = target_5x5.reshape(target_5x5.shape[0], -1, target_5x5.shape[3])\n",
        "cf_5x5_f = cf_5x5.reshape(cf_5x5.shape[0], -1, cf_5x5.shape[3])\n",
        "tr_treated_5x5_f = tr_treated_5x5.reshape(tr_treated_5x5.shape[0], -1, tr_treated_5x5.shape[3])\n",
        "\n",
        "print(tr_5x5_f.shape, tr_hist_5x5_f.shape, cov_5x5_f.shape, target_hist_5x5_f.shape, target_5x5_f.shape, cf_5x5_f.shape, tr_treated_5x5_f.shape)\n",
        "\n",
        "hist, inter = intervention_data_loader(tr_5x5_f, tr_hist_5x5_f, target_hist_5x5_f, cov_5x5_f)\n",
        "hist_train, inter_train, target_train, hist_test, inter_test, target_test, treated = train_test_treat_splitter(hist, inter, target_5x5_f, tr_treated_5x5_f)\n",
        "scaler_f, scaler_tr, scaler_l, hist_train_n, hist_test_n, inter_train_n, inter_test_n, treated_n, target_train_n, target_test_n = data_normalizer(hist_train, hist_test, inter_train, inter_test, treated, target_train, target_test)\n",
        "\n",
        "print(\"hist_train, hist_test, inter_train, inter_test, treated\",(hist_train_n.shape, hist_test_n.shape, inter_train_n.shape, inter_test_n.shape, treated_n.shape,target_train_n.shape, target_test_n.shape))\n",
        "\n"
      ],
      "metadata": {
        "id": "-Bak6MCWfX_d",
        "colab": {
          "base_uri": "https://localhost:8080/"
        },
        "outputId": "373307dc-5676-43ea-9f7a-a97a550af375"
      },
      "execution_count": null,
      "outputs": [
        {
          "output_type": "stream",
          "name": "stdout",
          "text": [
            "--------------------------------------------------------------------------\n",
            "Running experiment for Treatment_ID: 1 and Outcome_ID: 2\n",
            "--------------------------------------------------------------------------\n",
            "(3998, 30, 30) (3998, 30, 30) (3998, 30, 30) (3998, 30, 30) (3998, 30, 30) (3998, 30, 30) (3998, 30, 30)\n",
            "(143928, 25, 1) (143928, 25, 1) (143928, 25, 1) (143928, 25, 1) (143928, 25, 1) (143928, 25, 1) (143928, 25, 1)\n",
            "(143928, 25, 2) (143928, 25, 2)\n",
            "hist.shape: (143928, 25, 2)\n",
            "inter.shape: (143928, 25, 2)\n",
            "target.shape: (143928, 25, 1)\n",
            "hist_test.shape: (143928, 25, 2)\n",
            "inter_test.shape: (143928, 25, 2)\n",
            "target_test.shape: (143928, 25, 1)\n",
            "treated.shape: (143928, 25, 2)\n",
            "hist_train, hist_test, inter_train, inter_test, treated ((143928, 25, 2), (143928, 25, 2), (143928, 25, 2), (143928, 25, 2), (143928, 25, 2), (143928, 25), (143928, 25))\n"
          ]
        }
      ]
    },
    {
      "cell_type": "code",
      "source": [
        "loss_fn = tf.keras.losses.MeanSquaredError() #specify the loss\n",
        "input1_shape = (hist_train_n.shape[1:])\n",
        "input2_shape = (inter_train_n.shape[1:])\n",
        "out_dim1 = hist_train_n.shape[2]\n",
        "out_dim2 = 25\n",
        "model = build_mtcinet_model(input1_shape, input2_shape, out_dim1, out_dim2, loss_fn)\n",
        "print(model.summary())\n",
        "checkpoint_path='./mymodel.h'\n",
        "keras_callbacks   = [\n",
        "      EarlyStopping(monitor='val_loss', patience=6, mode='min', min_delta=0.001),\n",
        "      ModelCheckpoint(checkpoint_path, monitor='val_loss', save_best_only=True, mode='min')\n",
        "]\n",
        "tf.keras.utils.plot_model(model, show_shapes=True, show_layer_names=True, to_file='slearner.png')\n",
        "\n",
        "from IPython.display import Image # this just Jupyter notebook stuff\n",
        "Image(retina=True, filename='slearner.png')\n",
        "\n",
        "history=model.fit(x =[hist_train_n,inter_train_n],y=[hist_train_n,target_train_n], epochs=200, batch_size=64, verbose=2, validation_split=0.2, shuffle=False,callbacks=keras_callbacks)\n"
      ],
      "metadata": {
        "id": "0aPkud8cbIKr",
        "colab": {
          "base_uri": "https://localhost:8080/"
        },
        "outputId": "fc292c19-0340-410d-bbb3-eaf596e265e7"
      },
      "execution_count": null,
      "outputs": [
        {
          "output_type": "stream",
          "name": "stdout",
          "text": [
            "Model: \"model\"\n",
            "__________________________________________________________________________________________________\n",
            " Layer (type)                Output Shape                 Param #   Connected to                  \n",
            "==================================================================================================\n",
            " input_1 (InputLayer)        [(None, 25, 2)]              0         []                            \n",
            "                                                                                                  \n",
            " input_2 (InputLayer)        [(None, 25, 2)]              0         []                            \n",
            "                                                                                                  \n",
            " lstm (LSTM)                 (None, 25, 64)               17152     ['input_1[0][0]']             \n",
            "                                                                                                  \n",
            " lstm_4 (LSTM)               (None, 25, 64)               17152     ['input_2[0][0]']             \n",
            "                                                                                                  \n",
            " dropout (Dropout)           (None, 25, 64)               0         ['lstm[0][0]']                \n",
            "                                                                                                  \n",
            " dropout_1 (Dropout)         (None, 25, 64)               0         ['lstm_4[0][0]']              \n",
            "                                                                                                  \n",
            " lstm_1 (LSTM)               (None, 32)                   12416     ['dropout[0][0]']             \n",
            "                                                                                                  \n",
            " lstm_5 (LSTM)               (None, 32)                   12416     ['dropout_1[0][0]']           \n",
            "                                                                                                  \n",
            " dense (Dense)               (None, 16)                   528       ['lstm_1[0][0]']              \n",
            "                                                                                                  \n",
            " dense_1 (Dense)             (None, 16)                   528       ['lstm_5[0][0]']              \n",
            "                                                                                                  \n",
            " repeat_vector (RepeatVecto  (None, 25, 16)               0         ['dense[0][0]']               \n",
            " r)                                                                                               \n",
            "                                                                                                  \n",
            " concatenate (Concatenate)   (None, 32)                   0         ['dense[0][0]',               \n",
            "                                                                     'dense_1[0][0]']             \n",
            "                                                                                                  \n",
            " lstm_2 (LSTM)               (None, 25, 64)               20736     ['repeat_vector[0][0]']       \n",
            "                                                                                                  \n",
            " dense_2 (Dense)             (None, 16)                   528       ['concatenate[0][0]']         \n",
            "                                                                                                  \n",
            " lstm_3 (LSTM)               (None, 25, 2)                536       ['lstm_2[0][0]']              \n",
            "                                                                                                  \n",
            " outcome (Dense)             (None, 25)                   425       ['dense_2[0][0]']             \n",
            "                                                                                                  \n",
            "==================================================================================================\n",
            "Total params: 82417 (321.94 KB)\n",
            "Trainable params: 82417 (321.94 KB)\n",
            "Non-trainable params: 0 (0.00 Byte)\n",
            "__________________________________________________________________________________________________\n",
            "None\n",
            "Epoch 1/200\n",
            "1800/1800 - 60s - loss: 0.2830 - lstm_3_loss: 0.2688 - outcome_loss: 0.0142 - val_loss: 0.2969 - val_lstm_3_loss: 0.1790 - val_outcome_loss: 0.1179 - 60s/epoch - 33ms/step\n",
            "Epoch 2/200\n",
            "1800/1800 - 26s - loss: 0.2571 - lstm_3_loss: 0.2530 - outcome_loss: 0.0042 - val_loss: 0.3221 - val_lstm_3_loss: 0.1749 - val_outcome_loss: 0.1472 - 26s/epoch - 14ms/step\n",
            "Epoch 3/200\n",
            "1800/1800 - 45s - loss: 0.2675 - lstm_3_loss: 0.2577 - outcome_loss: 0.0098 - val_loss: 0.2834 - val_lstm_3_loss: 0.1709 - val_outcome_loss: 0.1125 - 45s/epoch - 25ms/step\n",
            "Epoch 4/200\n",
            "1800/1800 - 26s - loss: 0.2948 - lstm_3_loss: 0.2876 - outcome_loss: 0.0072 - val_loss: 0.4505 - val_lstm_3_loss: 0.2042 - val_outcome_loss: 0.2464 - 26s/epoch - 15ms/step\n",
            "Epoch 5/200\n",
            "1800/1800 - 27s - loss: 0.2856 - lstm_3_loss: 0.2787 - outcome_loss: 0.0069 - val_loss: 0.2849 - val_lstm_3_loss: 0.2035 - val_outcome_loss: 0.0814 - 27s/epoch - 15ms/step\n",
            "Epoch 6/200\n",
            "1800/1800 - 44s - loss: 0.2548 - lstm_3_loss: 0.2455 - outcome_loss: 0.0093 - val_loss: 0.2363 - val_lstm_3_loss: 0.1539 - val_outcome_loss: 0.0825 - 44s/epoch - 25ms/step\n",
            "Epoch 7/200\n",
            "1800/1800 - 44s - loss: 0.2319 - lstm_3_loss: 0.2229 - outcome_loss: 0.0090 - val_loss: 0.2177 - val_lstm_3_loss: 0.1423 - val_outcome_loss: 0.0754 - 44s/epoch - 24ms/step\n",
            "Epoch 8/200\n",
            "1800/1800 - 26s - loss: 0.2175 - lstm_3_loss: 0.2126 - outcome_loss: 0.0049 - val_loss: 0.2249 - val_lstm_3_loss: 0.1396 - val_outcome_loss: 0.0852 - 26s/epoch - 14ms/step\n",
            "Epoch 9/200\n",
            "1800/1800 - 28s - loss: 0.2226 - lstm_3_loss: 0.2158 - outcome_loss: 0.0067 - val_loss: 0.2430 - val_lstm_3_loss: 0.1396 - val_outcome_loss: 0.1033 - 28s/epoch - 16ms/step\n",
            "Epoch 10/200\n",
            "1800/1800 - 26s - loss: 0.2194 - lstm_3_loss: 0.2138 - outcome_loss: 0.0055 - val_loss: 0.2467 - val_lstm_3_loss: 0.1394 - val_outcome_loss: 0.1074 - 26s/epoch - 14ms/step\n",
            "Epoch 11/200\n",
            "1800/1800 - 26s - loss: 0.2195 - lstm_3_loss: 0.2133 - outcome_loss: 0.0062 - val_loss: 0.3340 - val_lstm_3_loss: 0.1394 - val_outcome_loss: 0.1946 - 26s/epoch - 14ms/step\n",
            "Epoch 12/200\n",
            "1800/1800 - 29s - loss: 0.2174 - lstm_3_loss: 0.2128 - outcome_loss: 0.0046 - val_loss: 0.3022 - val_lstm_3_loss: 0.1393 - val_outcome_loss: 0.1629 - 29s/epoch - 16ms/step\n",
            "Epoch 13/200\n",
            "1800/1800 - 29s - loss: 0.2178 - lstm_3_loss: 0.2122 - outcome_loss: 0.0056 - val_loss: 0.2349 - val_lstm_3_loss: 0.1388 - val_outcome_loss: 0.0961 - 29s/epoch - 16ms/step\n"
          ]
        }
      ]
    },
    {
      "cell_type": "markdown",
      "metadata": {
        "id": "nN3Gg6y7_HpR"
      },
      "source": [
        "## Causal Effect Estimation (Without Spatial Interference)\n",
        "The same code can be re-used for causal inference with spatial interference."
      ]
    },
    {
      "cell_type": "code",
      "source": [
        "import pandas as pd\n",
        "import numpy as np\n",
        "\n",
        "hist_train_p, train_pred = model.predict([hist_train_n,inter_train_n])\n",
        "hist_pred, test_pred = model.predict([hist_test_n,inter_test_n])\n",
        "_, cf_pred = model.predict([hist_test_n,treated_n])"
      ],
      "metadata": {
        "id": "BFrnPTeNKPVV",
        "colab": {
          "base_uri": "https://localhost:8080/"
        },
        "outputId": "d56bb4ac-b809-4f05-81e6-97c380ec6301"
      },
      "execution_count": null,
      "outputs": [
        {
          "output_type": "stream",
          "name": "stdout",
          "text": [
            "4498/4498 [==============================] - 29s 6ms/step\n",
            "4498/4498 [==============================] - 28s 6ms/step\n",
            "4498/4498 [==============================] - 30s 7ms/step\n"
          ]
        }
      ]
    },
    {
      "cell_type": "code",
      "execution_count": null,
      "metadata": {
        "colab": {
          "base_uri": "https://localhost:8080/"
        },
        "id": "O0tmPNfBSy1B",
        "outputId": "4e6c7c9f-db35-48d4-8ef1-1ebe02fd3e62"
      },
      "outputs": [
        {
          "output_type": "stream",
          "name": "stdout",
          "text": [
            "(143928, 25, 2) (143928, 25, 2) (143928, 25) (143928, 25) (143928, 25)\n"
          ]
        }
      ],
      "source": [
        "print(hist_train_p.shape, hist_test_n.shape, train_pred.shape, test_pred.shape,cf_pred.shape)"
      ]
    },
    {
      "cell_type": "code",
      "execution_count": null,
      "metadata": {
        "colab": {
          "base_uri": "https://localhost:8080/"
        },
        "id": "fwFW5RLYVSv1",
        "outputId": "ddbc6a5f-c8c4-4610-f9a5-8af717844d1f"
      },
      "outputs": [
        {
          "output_type": "stream",
          "name": "stdout",
          "text": [
            "Test RMSE: 6.497\n"
          ]
        }
      ],
      "source": [
        "#RMSE Outcome Model\n",
        "from sklearn.metrics import mean_squared_error\n",
        "from math import sqrt\n",
        "\n",
        "test_pred_r = test_pred.reshape((-1,1))\n",
        "target_test_r = target_test_n.reshape((-1,1))\n",
        "\n",
        "inv_test_pred = scaler_l.inverse_transform(test_pred_r)\n",
        "inv_target_test = scaler_l.inverse_transform(target_test_r)\n",
        "\n",
        "#test_pred_r = test_pred_r.reshape(test_pred.shape)\n",
        "#target_test_r = target_test_r.reshape(target_test.shape)\n",
        "\n",
        "rmse = sqrt(mean_squared_error(inv_target_test, inv_test_pred))\n",
        "print('Test RMSE: %.3f' % rmse)"
      ]
    },
    {
      "cell_type": "code",
      "source": [
        "cf_pred_r = cf_pred.reshape((-1,1))\n",
        "inv_cf_pred = scaler_l.inverse_transform(cf_pred_r)\n",
        "\n",
        "test = inv_test_pred.reshape(test_pred.shape)\n",
        "cf = inv_cf_pred.reshape(cf_pred.shape)\n",
        "\n",
        "cate_pred = np.array(cf-test)\n",
        "cate_true= np.array(cf_5x5_f-target_5x5_f).reshape((cf_5x5_f.shape[0],cf_5x5_f.shape[1]))\n",
        "\n",
        "ate_pred=np.mean(cate_pred)\n",
        "ate_true=np.mean(cate_true)\n"
      ],
      "metadata": {
        "id": "5aZrpbeeretL"
      },
      "execution_count": null,
      "outputs": []
    },
    {
      "cell_type": "code",
      "source": [
        "print(\"True ATE:\",ate_true)\n",
        "print(\"Estimated ATE:\",ate_pred)"
      ],
      "metadata": {
        "colab": {
          "base_uri": "https://localhost:8080/"
        },
        "id": "5GBiVEKlVjyd",
        "outputId": "955f2b3c-599f-4e7c-d697-b0dd3af3b682"
      },
      "execution_count": null,
      "outputs": [
        {
          "output_type": "stream",
          "name": "stdout",
          "text": [
            "True ATE: -0.08138817545227248\n",
            "Estimated ATE: -0.09622074\n"
          ]
        }
      ]
    },
    {
      "cell_type": "code",
      "source": [
        "pehe=np.mean(np.power((cate_true - cate_pred),2))\n",
        "sqrt_pehe=np.sqrt(pehe)\n",
        "print(\"\\nSQRT PEHE:\",sqrt_pehe)"
      ],
      "metadata": {
        "colab": {
          "base_uri": "https://localhost:8080/"
        },
        "id": "mPvoFtDBtNPV",
        "outputId": "e0af261c-f231-4d21-a4bd-ecfb47f1d01b"
      },
      "execution_count": null,
      "outputs": [
        {
          "output_type": "stream",
          "name": "stdout",
          "text": [
            "\n",
            "SQRT PEHE: 0.5564931058857276\n"
          ]
        }
      ]
    },
    {
      "cell_type": "code",
      "execution_count": null,
      "metadata": {
        "id": "3LlOjWk9bkwv"
      },
      "outputs": [],
      "source": [
        "test_1 = test.reshape((test.shape[0],5,5))\n",
        "#test_pred_r_1_lf = np.zeros((test_pred_r_1.shape[0]+1,5,5))\n",
        "#test_pred_r_1_lf[1:,:,:] = test_pred_r_1\n",
        "test_pred_r_30 = np.zeros(data_wouts_30.shape[0:3])\n",
        "\n",
        "\n",
        "count = 0\n",
        "for i in range (test_pred_r_30.shape[0]-2):\n",
        "  for j in range(6):\n",
        "    for k in range(6):\n",
        "      x=j*5\n",
        "      y=k*5\n",
        "      #print(count, i, x, y)\n",
        "      test_pred_r_30[i,x:x+5,y:y+5] = test_1[count,:,:]\n",
        "      count=count+1"
      ]
    },
    {
      "cell_type": "code",
      "source": [
        "cf_1 = cf.reshape((cf.shape[0],5,5))\n",
        "cf_pred_r_30 = np.zeros(data_wouts_30.shape[0:3])\n",
        "\n",
        "\n",
        "\n",
        "count = 0\n",
        "for i in range (cf_pred_r_30.shape[0]-2):\n",
        "  for j in range(6):\n",
        "    for k in range(6):\n",
        "      x=j*5\n",
        "      y=k*5\n",
        "      #print(count, i, x, y)\n",
        "      cf_pred_r_30[i,x:x+5,y:y+5] = cf_1[count,:,:]\n",
        "      count=count+1"
      ],
      "metadata": {
        "id": "jR4OtwYHt-d-"
      },
      "execution_count": null,
      "outputs": []
    },
    {
      "cell_type": "code",
      "source": [
        "test_pred_r_28 = test_pred_r_30[:,:28,:28]\n",
        "cf_pred_r_28 = cf_pred_r_30[:,:28,:28]"
      ],
      "metadata": {
        "id": "Ztm2xCrxvp9V"
      },
      "execution_count": null,
      "outputs": []
    },
    {
      "cell_type": "code",
      "source": [
        "#For ATE on treated region\n",
        "cate_pred_tr=(cf_pred_r_28[:3998,10:15, 10:15] - test_pred_r_28[:3998,10:15, 10:15]).squeeze()\n",
        "cate_true_tr=(data_wouts[2:,10:15,10:15,4]-data_wouts[2:,10:15,10:15,2]).squeeze()\n",
        "\n",
        "ate_pred_tr=tf.reduce_mean(cate_pred_tr)\n",
        "ate_true_tr=tf.reduce_mean(cate_true_tr)\n",
        "\n",
        "print(\"True DATE:\",ate_true_tr.numpy())\n",
        "print(\"Estimated DATE:\",ate_pred_tr.numpy())"
      ],
      "metadata": {
        "colab": {
          "base_uri": "https://localhost:8080/"
        },
        "id": "rV8KyqfuvefF",
        "outputId": "0ba2899a-6342-4daf-8220-f6b118be3b61"
      },
      "execution_count": null,
      "outputs": [
        {
          "output_type": "stream",
          "name": "stdout",
          "text": [
            "True DATE: -1.5414163429321748\n",
            "Estimated DATE: 0.6886757683390715\n"
          ]
        }
      ]
    },
    {
      "cell_type": "code",
      "source": [
        "#For ATE on all region\n",
        "cate_pred_tr=(cf_pred_r_28 - test_pred_r_28).squeeze()\n",
        "cate_true_tr=(data_wouts[2:,:,:,4]-data_wouts[2:,:,:,2]).squeeze()\n",
        "\n",
        "ate_pred_tr=tf.reduce_mean(cate_pred_tr)\n",
        "ate_true_tr=tf.reduce_mean(cate_true_tr)\n",
        "\n",
        "print(\"True ATE:\",ate_true_tr.numpy())\n",
        "print(\"Estimated ATE:\",ate_pred_tr.numpy())"
      ],
      "metadata": {
        "colab": {
          "base_uri": "https://localhost:8080/"
        },
        "id": "dflKGaRcxa3x",
        "outputId": "d57d9590-990e-4bb8-8fff-f463a253ad3b"
      },
      "execution_count": null,
      "outputs": [
        {
          "output_type": "stream",
          "name": "stdout",
          "text": [
            "True ATE: -0.09343030345286382\n",
            "Estimated ATE: 0.021949344083383355\n"
          ]
        }
      ]
    },
    {
      "cell_type": "code",
      "source": [
        "pred_att = cf_pred_r_28[:3998,10:15, 10:15] - test_pred_r_28[:3998,10:15, 10:15]\n",
        "mean_pred_att = np.mean(pred_att,axis=0)\n",
        "print(np.mean(mean_pred_att))\n",
        "\n",
        "fig = plt.figure()\n",
        "ax = fig.add_subplot(111)\n",
        "cax = ax.imshow(mean_pred_att, cmap='viridis')\n",
        "cbar = fig.colorbar(cax)\n",
        "ax.set_xlabel('x')\n",
        "ax.set_ylabel('y')\n",
        "ax.set_title('Mean Pred DATE')\n",
        "plt.show()"
      ],
      "metadata": {
        "colab": {
          "base_uri": "https://localhost:8080/",
          "height": 489
        },
        "id": "kmH1oOetzZJY",
        "outputId": "8e1378ad-9710-4fe8-f9d9-8ef560c5a2de"
      },
      "execution_count": null,
      "outputs": [
        {
          "output_type": "stream",
          "name": "stdout",
          "text": [
            "0.6886757683390715\n"
          ]
        },
        {
          "output_type": "display_data",
          "data": {
            "text/plain": [
              "<Figure size 640x480 with 2 Axes>"
            ],
            "image/png": "[encoded data removed]"
          },
          "metadata": {}
        }
      ]
    },
    {
      "cell_type": "code",
      "source": [
        "true_att = data_wouts[2:,10:15, 10:15,4] - cf_pred_r_28[:3998,10:15, 10:15]\n",
        "mean_true_att = np.mean(true_att,axis=0)\n",
        "print(np.mean(mean_true_att))\n",
        "\n",
        "fig = plt.figure()\n",
        "ax = fig.add_subplot(111)\n",
        "cax = ax.imshow(mean_true_att, cmap='viridis')\n",
        "cbar = fig.colorbar(cax)\n",
        "ax.set_xlabel('x')\n",
        "ax.set_ylabel('y')\n",
        "ax.set_title('Mean True DATE')\n",
        "plt.show()"
      ],
      "metadata": {
        "colab": {
          "base_uri": "https://localhost:8080/",
          "height": 489
        },
        "id": "nM03Zt5sznhp",
        "outputId": "9b7e6860-86af-4dfe-9c2a-cfd5d2397c62"
      },
      "execution_count": null,
      "outputs": [
        {
          "output_type": "stream",
          "name": "stdout",
          "text": [
            "7.735473186528701\n"
          ]
        },
        {
          "output_type": "display_data",
          "data": {
            "text/plain": [
              "<Figure size 640x480 with 2 Axes>"
            ],
            "image/png": "[encoded data removed]"
          },
          "metadata": {}
        }
      ]
    }
  ],
  "metadata": {
    "colab": {
      "provenance": [],
      "gpuType": "T4"
    },
    "kernelspec": {
      "display_name": "Python 3",
      "name": "python3"
    },
    "language_info": {
      "name": "python"
    },
    "accelerator": "GPU"
  },
  "nbformat": 4,
  "nbformat_minor": 0
}