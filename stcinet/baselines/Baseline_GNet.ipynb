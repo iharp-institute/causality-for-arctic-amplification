{
  "nbformat": 4,
  "nbformat_minor": 0,
  "metadata": {
    "colab": {
      "provenance": [],
      "gpuType": "T4"
    },
    "kernelspec": {
      "name": "python3",
      "display_name": "Python 3"
    },
    "accelerator": "GPU"
  },
  "cells": [
    {
      "cell_type": "markdown",
      "metadata": {
        "id": "jdRdTOsz9raL"
      },
      "source": [
        "## Initial Setup"
      ]
    },
    {
      "cell_type": "code",
      "metadata": {
        "id": "U0pzwDXw9p0l"
      },
      "source": [
        "import os\n",
        "import math\n",
        "import glob\n",
        "import numpy as np\n",
        "import pandas as pd\n",
        "import tensorflow as tf\n",
        "import matplotlib.pyplot as plt\n",
        "from keras.models import Sequential\n",
        "from tensorflow.keras.optimizers import Adam\n",
        "#from attention import Attention\n",
        "from keras.layers import Dense, Dropout\n",
        "from keras.layers import LSTM,TimeDistributed\n",
        "from sklearn.preprocessing import MinMaxScaler, StandardScaler\n",
        "from sklearn.metrics import mean_squared_error\n",
        "from sklearn.model_selection import train_test_split\n",
        "from keras.callbacks import EarlyStopping, ModelCheckpoint"
      ],
      "execution_count": null,
      "outputs": []
    },
    {
      "cell_type": "markdown",
      "metadata": {
        "id": "L8VX5KkQ_FX6"
      },
      "source": [
        "## Generating Synthetic Data\n",
        "This part can be skipped if data is loaded directly from npy\n",
        "\n",
        "\n",
        "\n"
      ]
    },
    {
      "cell_type": "code",
      "execution_count": null,
      "metadata": {
        "id": "9b1de778"
      },
      "outputs": [],
      "source": [
        "import numpy as np\n",
        "import scipy.ndimage\n",
        "import matplotlib.pyplot as plt\n",
        "\n",
        "# Parameters\n",
        "Lx = 10.0      # Length of the domain in the x direction\n",
        "Ly = 10.0      # Length of the domain in the y direction\n",
        "Nx = 28        # Number of spatial points in the x direction\n",
        "Ny = 28        # Number of spatial points in the y direction\n",
        "Nt = 4000      # Number of time steps\n",
        "D_a = 0.01     # Diffusion coefficient for variable a\n",
        "D_b = 0.01     # Diffusion coefficient for variable b\n",
        "D_c = 0.01     # Diffusion coefficient for variable c (combination of a and b)\n",
        "alpha = 0.1    # Influence of variable_a on variable_b\n",
        "beta = 0.2     # Coefficient for variable_a in variable_c\n",
        "gamma = 0.3    # Coefficient for variable_b in variable_c\n",
        "neighborhood_size = 3  # Size of the neighborhood for convolution\n",
        "lag_a = 1      # Lag for variable_a\n",
        "lag_b = 1      # Lag for variable_b\n",
        "update_factor_b = 0.6  # Update factor for variable_b\n",
        "\n",
        "# Spatial and temporal discretization\n",
        "x = np.linspace(0, Lx, Nx)\n",
        "y = np.linspace(0, Ly, Ny)\n",
        "X, Y = np.meshgrid(x, y)\n",
        "dx = x[1] - x[0]\n",
        "dy = y[1] - y[0]\n",
        "\n",
        "# Time discretization\n",
        "dt = 0.01      # Time step\n",
        "t = np.linspace(0, Nt * dt, Nt)\n",
        "\n",
        "# Initialize variables\n",
        "variable_a = np.zeros((Nt, Nx, Ny))\n",
        "variable_b = np.zeros((Nt, Nx, Ny))\n",
        "variable_b_cf = np.zeros((Nt, Nx, Ny))\n",
        "variable_c = np.zeros((Nt, Nx, Ny))\n",
        "variable_c_cf = np.zeros((Nt, Nx, Ny))\n",
        "\n",
        "# Initial conditions\n",
        "variable_a[0, :, :] = np.exp(-((X - Lx/2)**2 + (Y - Ly/2)**2) / 4)\n",
        "variable_b[0, :, :] = np.sin(np.pi * X / Lx) + alpha * variable_a[0, :, :]\n",
        "#variable_b_cf[0, :, :] = np.cos(np.pi * X / Lx) + alpha * variable_a[0, :, :]\n",
        "variable_c[0, :, :] = beta * variable_a[0, :, :] + gamma * variable_b[0, :, :]\n",
        "variable_c_cf[0, :, :] = beta * variable_a[0, :, :] + gamma * variable_b[0, :, :]\n",
        "\n",
        "# Time-stepping loop\n",
        "for n in range(1, Nt):\n",
        "    # Diffusion Equation for variable_a with time lag\n",
        "    laplacian_a = (np.roll(variable_a[n-1, :, :], 1, axis=1) - 2 * variable_a[n-1, :, :] + np.roll(variable_a[n-1, :, :], -1, axis=1)) / dx**2 + \\\n",
        "                   (np.roll(variable_a[n-1, :, :], 1, axis=0) - 2 * variable_a[n-1, :, :] + np.roll(variable_a[n-1, :, :], -1, axis=0)) / dy**2\n",
        "    diffusion_term_a = D_a * laplacian_a\n",
        "    variable_a[n, :, :] = variable_a[n-1, :, :] + dt * diffusion_term_a\n",
        "\n",
        "    # Diffusion Equation for variable_b with time lag and dependence on lagged variable_a\n",
        "    laplacian_b = (np.roll(variable_b[n-1, :, :], 1, axis=1) - 2 * variable_b[n-1, :, :] + np.roll(variable_b[n-1, :, :], -1, axis=1)) / dx**2 + \\\n",
        "                   (np.roll(variable_b[n-1, :, :], 1, axis=0) - 2 * variable_b[n-1, :, :] + np.roll(variable_b[n-1, :, :], -1, axis=0)) / dy**2\n",
        "    diffusion_term_b = D_b * laplacian_b\n",
        "    variable_b[n, :, :] = (variable_b[n-1, :, :] + dt * (diffusion_term_b + alpha * np.roll(diffusion_term_a, lag_a, axis=(0, 1))))\n",
        "    variable_b_cf[n, :, :] = (variable_b[n-1, :, :] + dt * (diffusion_term_b + alpha * np.roll(diffusion_term_a, lag_a, axis=(0, 1))))\n",
        "\n",
        "    variable_b_cf[n,10:15,10:15] = update_factor_b * variable_b_cf[n,10:15,10:15]\n",
        "\n",
        "    # Convolution to compute the mean of per-pixel neighborhood of variable_b (excluding the pixel itself)\n",
        "    kernel_size = 3\n",
        "    neighborhood_sum = scipy.ndimage.convolve(variable_b[n, :, :], np.ones((kernel_size, kernel_size)), mode='constant', cval=0)\n",
        "    neighborhood_mean = (neighborhood_sum - variable_b[n, :, :]) / (kernel_size**2 - 1)\n",
        "\n",
        "    # Diffusion Equation for variable_c with time lag and dependence on lagged variable_a and lagged variable_b\n",
        "    laplacian_c = (np.roll(variable_c[n-1, :, :], 1, axis=1) - 2 * variable_c[n-1, :, :] + np.roll(variable_c[n-1, :, :], -1, axis=1)) / dx**2 + \\\n",
        "                   (np.roll(variable_c[n-1, :, :], 1, axis=0) - 2 * variable_c[n-1, :, :] + np.roll(variable_c[n-1, :, :], -1, axis=0)) / dy**2\n",
        "    diffusion_term_c = D_c * laplacian_c\n",
        "    variable_c[n, :, :] = variable_c[n-1, :, :] + dt * diffusion_term_c + beta * dt * np.roll(diffusion_term_a, lag_a, axis=(0, 1)) + gamma * dt * (np.roll(variable_b[n, :, :], lag_b, axis=(0, 1)) + neighborhood_mean)\n",
        "\n",
        "for n in range(1, Nt):\n",
        "  # Diffusion Equation for variable_c with time lag and dependence on lagged variable_a and lagged variable_b\n",
        "    laplacian_cf = (np.roll(variable_c_cf[n-1, :, :], 1, axis=1) - 2 * variable_c_cf[n-1, :, :] + np.roll(variable_c_cf[n-1, :, :], -1, axis=1)) / dx**2 + \\\n",
        "                   (np.roll(variable_c_cf[n-1, :, :], 1, axis=0) - 2 * variable_c_cf[n-1, :, :] + np.roll(variable_c_cf[n-1, :, :], -1, axis=0)) / dy**2\n",
        "    diffusion_term_cf = D_c * laplacian_cf\n",
        "    variable_c_cf[n, :, :] = variable_c_cf[n-1, :, :] + dt * diffusion_term_cf + beta * dt * np.roll(diffusion_term_a, lag_a, axis=(0, 1)) + gamma * dt * (np.roll(variable_b_cf[n, :, :], lag_b, axis=(0, 1)) + neighborhood_mean)\n"
      ]
    },
    {
      "cell_type": "code",
      "execution_count": null,
      "metadata": {
        "id": "9bc67c5e"
      },
      "outputs": [],
      "source": [
        "a = variable_a.reshape(4000, 28, 28, 1)\n",
        "b = variable_b.reshape(4000, 28, 28, 1)\n",
        "c = variable_c.reshape(4000, 28, 28, 1)\n",
        "c_cf = variable_c_cf.reshape(4000, 28, 28, 1)\n",
        "c_tr = variable_c.reshape(4000, 28, 28, 1) #Creating target variable"
      ]
    },
    {
      "cell_type": "code",
      "source": [
        "#Add lag before reshaping data\n",
        "a = a[:-1]\n",
        "b = b[:-1]\n",
        "c = c[:-1]\n",
        "c_cf = c_cf[1:]\n",
        "c_tr = c_tr[1:]"
      ],
      "metadata": {
        "id": "Etxfd-rUaONP"
      },
      "execution_count": null,
      "outputs": []
    },
    {
      "cell_type": "code",
      "source": [
        "ate = np.mean(c_cf-c)\n",
        "ate"
      ],
      "metadata": {
        "colab": {
          "base_uri": "https://localhost:8080/"
        },
        "id": "uoyxF7RJV-eu",
        "outputId": "12f5a4c9-3007-41b9-c831-e832c758cadb"
      },
      "execution_count": null,
      "outputs": [
        {
          "output_type": "execute_result",
          "data": {
            "text/plain": [
              "-0.08971487035921025"
            ]
          },
          "metadata": {},
          "execution_count": 5
        }
      ]
    },
    {
      "cell_type": "code",
      "source": [
        "from copy import copy, deepcopy\n",
        "\n",
        "b_tr = deepcopy(b)\n",
        "b_tr[:,10:15,10:15,0] = b_tr[:,10:15,10:15,0]*0.6"
      ],
      "metadata": {
        "id": "NmOyUqEuu0yh"
      },
      "execution_count": null,
      "outputs": []
    },
    {
      "cell_type": "code",
      "source": [
        "data_ws = np.concatenate([a, b, c, b_tr, c_cf, c_tr], 3)\n",
        "print(data_ws.shape)"
      ],
      "metadata": {
        "colab": {
          "base_uri": "https://localhost:8080/"
        },
        "id": "V97H_Sahuu3i",
        "outputId": "1fe72ec4-8af1-4e3d-c9ae-751910fe62f3"
      },
      "execution_count": null,
      "outputs": [
        {
          "output_type": "stream",
          "name": "stdout",
          "text": [
            "(3999, 28, 28, 6)\n"
          ]
        }
      ]
    },
    {
      "cell_type": "code",
      "source": [
        "np.save('/content/c_cf_true_with_spillover.npy',data_ws[:,:,:,[2,4]])"
      ],
      "metadata": {
        "id": "TqdHqa5tpEMq"
      },
      "execution_count": null,
      "outputs": []
    },
    {
      "cell_type": "markdown",
      "source": [
        "Padding zeros to data to make 30x30 grid that is divisible into 5x5 sub-grids"
      ],
      "metadata": {
        "id": "wAbcO2Otm4u1"
      }
    },
    {
      "cell_type": "code",
      "source": [
        "data_ws_30 = np.zeros((3999,30,30,6))\n",
        "data_ws_30[:,:28,:28,:] = data_ws\n"
      ],
      "metadata": {
        "id": "_hZi8u-vzAsQ"
      },
      "execution_count": null,
      "outputs": []
    },
    {
      "cell_type": "code",
      "source": [
        "data_ws_5x5 = np.zeros((3999*36,5,5,6))"
      ],
      "metadata": {
        "id": "iNq4VGp02w05"
      },
      "execution_count": null,
      "outputs": []
    },
    {
      "cell_type": "code",
      "source": [
        "count = 0\n",
        "for i in range (data_ws_30.shape[0]):\n",
        "  for j in range(6):\n",
        "    for k in range(6):\n",
        "      x=j*5\n",
        "      y=k*5\n",
        "      #print(count, i, x, y)\n",
        "      data_ws_5x5[count,:,:,:]=data_ws_30[i,x:x+5,y:y+5,:]\n",
        "      count=count+1\n"
      ],
      "metadata": {
        "id": "jYjr1FSV2pLr"
      },
      "execution_count": null,
      "outputs": []
    },
    {
      "cell_type": "code",
      "source": [
        "data_ws_5x5_flat = data_ws_5x5.reshape(data_ws_5x5.shape[0], -1, data_ws_5x5.shape[3])\n",
        "data_ws_5x5_flat.shape"
      ],
      "metadata": {
        "colab": {
          "base_uri": "https://localhost:8080/"
        },
        "id": "vWcwlrDY9FMG",
        "outputId": "9c4cc74b-a1e3-4d6b-892d-0513fdb8f470"
      },
      "execution_count": null,
      "outputs": [
        {
          "output_type": "execute_result",
          "data": {
            "text/plain": [
              "(143964, 25, 6)"
            ]
          },
          "metadata": {},
          "execution_count": 14
        }
      ]
    },
    {
      "cell_type": "markdown",
      "source": [
        "## Propensity Score Model"
      ],
      "metadata": {
        "id": "fFW9_3cU0kav"
      }
    },
    {
      "cell_type": "code",
      "source": [
        "#Specifying covariates and treatment\n",
        "cov = data_ws_5x5_flat[:,:,:1]\n",
        "tr = data_ws_5x5_flat[:,:,1] # data[:,2] * 1.1\n",
        "\n",
        "train_x = cov[:,:]\n",
        "train_y = tr[:]\n",
        "test_x = cov[:,:]\n",
        "test_y = tr[:]\n",
        "\n",
        "print(train_x.shape)\n",
        "print(test_x.shape)\n",
        "print(train_y.shape)\n",
        "print(test_y.shape)"
      ],
      "metadata": {
        "colab": {
          "base_uri": "https://localhost:8080/"
        },
        "id": "JsrVRRfX2snN",
        "outputId": "3c6b0e5c-bfaf-4da9-e716-8bbe97183124"
      },
      "execution_count": null,
      "outputs": [
        {
          "output_type": "stream",
          "name": "stdout",
          "text": [
            "(143964, 25, 1)\n",
            "(143964, 25, 1)\n",
            "(143964, 25)\n",
            "(143964, 25)\n"
          ]
        }
      ]
    },
    {
      "cell_type": "code",
      "source": [
        "#for new dataset\n",
        "\n",
        "train_x_r = train_x.reshape((-1,1))\n",
        "test_x_r = test_x.reshape((-1,1))\n",
        "\n",
        "train_y_r=train_y.reshape((-1))\n",
        "test_y_r=test_y.reshape((-1))\n",
        "\n",
        "scaler_f = StandardScaler()\n",
        "train_x_r = scaler_f.fit_transform(train_x_r) #reshaping to 2d for standard scaling\n",
        "test_x_r = scaler_f.transform(test_x_r) #reshaping to 2d for standard scaling\n",
        "\n",
        "scaler_t = StandardScaler()\n",
        "train_y_r = scaler_t.fit_transform(train_y_r.reshape(-1,1)) #reshaping to 2d for standard scaling\n",
        "test_y_r = scaler_t.transform(test_y_r.reshape(-1,1)) #reshaping to 2d for standard scaling\n",
        "\n",
        "train_x = train_x_r.reshape(train_x.shape)\n",
        "test_x = test_x_r.reshape(test_x.shape)\n",
        "\n",
        "train_y = train_y_r.reshape(train_y.shape)\n",
        "test_y = test_y_r.reshape(test_y.shape)"
      ],
      "metadata": {
        "id": "7OsDF6nTAC1q"
      },
      "execution_count": null,
      "outputs": []
    },
    {
      "cell_type": "code",
      "source": [
        "# convert an array of values into a dataset matrix\n",
        "def reshape_features(dataset, timesteps=1):\n",
        "    print(dataset.shape)\n",
        "    X = dataset.reshape((int(dataset.shape[0]/timesteps)), timesteps, dataset.shape[1])\n",
        "    return X"
      ],
      "metadata": {
        "id": "eJPBOw0GwHJH"
      },
      "execution_count": null,
      "outputs": []
    },
    {
      "cell_type": "code",
      "source": [
        "import tensorflow as tf\n",
        "import numpy as np\n",
        "\n",
        "from tensorflow.keras.layers import Input, LSTM\n",
        "from tensorflow.keras.layers import Dense\n",
        "from tensorflow.keras import regularizers\n",
        "from tensorflow.keras import Model\n",
        "from tensorflow.keras.losses import Loss\n",
        "#from attention import Attention\n",
        "\n",
        "def mymodel(timestep, features, reg_l2):\n",
        "\n",
        "    input = Input(shape=(timestep,features))\n",
        "    x = LSTM(64, return_sequences=True)(input)\n",
        "    x = Dropout(0.2)(x)\n",
        "    x = LSTM(32, return_sequences=False)(x)\n",
        "    output = Dense(1, activation='sigmoid')(x)\n",
        "    model = Model(inputs=input, outputs=output)\n",
        "\n",
        "    return model"
      ],
      "metadata": {
        "id": "0pXpv7q4qbzA"
      },
      "execution_count": null,
      "outputs": []
    },
    {
      "cell_type": "code",
      "source": [
        "features = 1\n",
        "timestep = 25\n",
        "\n",
        "model=mymodel(25,1, .01)\n",
        "print(model.summary())\n"
      ],
      "metadata": {
        "colab": {
          "base_uri": "https://localhost:8080/"
        },
        "id": "Fv8WIzRFezMN",
        "outputId": "0458ab1a-99d7-462c-fdde-3c6527e857ea"
      },
      "execution_count": null,
      "outputs": [
        {
          "output_type": "stream",
          "name": "stdout",
          "text": [
            "Model: \"model\"\n",
            "_________________________________________________________________\n",
            " Layer (type)                Output Shape              Param #   \n",
            "=================================================================\n",
            " input_1 (InputLayer)        [(None, 25, 1)]           0         \n",
            "                                                                 \n",
            " lstm (LSTM)                 (None, 25, 64)            16896     \n",
            "                                                                 \n",
            " dropout (Dropout)           (None, 25, 64)            0         \n",
            "                                                                 \n",
            " lstm_1 (LSTM)               (None, 32)                12416     \n",
            "                                                                 \n",
            " dense (Dense)               (None, 1)                 33        \n",
            "                                                                 \n",
            "=================================================================\n",
            "Total params: 29345 (114.63 KB)\n",
            "Trainable params: 29345 (114.63 KB)\n",
            "Non-trainable params: 0 (0.00 Byte)\n",
            "_________________________________________________________________\n",
            "None\n"
          ]
        }
      ]
    },
    {
      "cell_type": "code",
      "source": [
        "model.compile(loss='mean_squared_error', optimizer='adam')\n",
        "\n",
        "checkpoint_path='./testmodel.h5'\n",
        "keras_callbacks   = [\n",
        "      EarlyStopping(monitor='val_loss', patience=60, mode='min', min_delta=0.001),\n",
        "      ModelCheckpoint(checkpoint_path, monitor='val_loss', save_best_only=True, mode='min')\n",
        "]\n",
        "\n",
        "history=model.fit(train_x, train_y, epochs=10, batch_size=32, verbose=2, validation_split =0.2, shuffle=True,callbacks=keras_callbacks)"
      ],
      "metadata": {
        "colab": {
          "base_uri": "https://localhost:8080/"
        },
        "id": "Ack7t99LveWd",
        "outputId": "4f6aa7b5-5a01-4a59-d547-d8b4834a8fd1"
      },
      "execution_count": null,
      "outputs": [
        {
          "output_type": "stream",
          "name": "stdout",
          "text": [
            "Epoch 1/10\n",
            "3600/3600 - 41s - loss: 0.7219 - val_loss: 0.6829 - 41s/epoch - 11ms/step\n",
            "Epoch 2/10\n"
          ]
        },
        {
          "output_type": "stream",
          "name": "stderr",
          "text": [
            "/usr/local/lib/python3.10/dist-packages/keras/src/engine/training.py:3103: UserWarning: You are saving your model as an HDF5 file via `model.save()`. This file format is considered legacy. We recommend using instead the native Keras format, e.g. `model.save('my_model.keras')`.\n",
            "  saving_api.save_model(\n"
          ]
        },
        {
          "output_type": "stream",
          "name": "stdout",
          "text": [
            "3600/3600 - 33s - loss: 0.7354 - val_loss: 0.6414 - 33s/epoch - 9ms/step\n",
            "Epoch 3/10\n",
            "3600/3600 - 25s - loss: 0.7153 - val_loss: 0.6413 - 25s/epoch - 7ms/step\n",
            "Epoch 4/10\n",
            "3600/3600 - 25s - loss: 0.6700 - val_loss: 0.5765 - 25s/epoch - 7ms/step\n",
            "Epoch 5/10\n",
            "3600/3600 - 25s - loss: 0.6360 - val_loss: 0.6119 - 25s/epoch - 7ms/step\n",
            "Epoch 6/10\n",
            "3600/3600 - 25s - loss: 0.6353 - val_loss: 0.5680 - 25s/epoch - 7ms/step\n",
            "Epoch 7/10\n",
            "3600/3600 - 25s - loss: 0.6342 - val_loss: 0.5676 - 25s/epoch - 7ms/step\n",
            "Epoch 8/10\n",
            "3600/3600 - 25s - loss: 0.6341 - val_loss: 0.5681 - 25s/epoch - 7ms/step\n",
            "Epoch 9/10\n",
            "3600/3600 - 25s - loss: 0.6343 - val_loss: 0.5675 - 25s/epoch - 7ms/step\n",
            "Epoch 10/10\n",
            "3600/3600 - 24s - loss: 0.6339 - val_loss: 0.5676 - 24s/epoch - 7ms/step\n"
          ]
        }
      ]
    },
    {
      "cell_type": "code",
      "source": [
        "prop_score = model.predict_on_batch(train_x)\n",
        "iptw = 1 / prop_score\n",
        "print(prop_score.shape)\n",
        "print(iptw.shape)"
      ],
      "metadata": {
        "colab": {
          "base_uri": "https://localhost:8080/"
        },
        "id": "gdCKL7iW2_ID",
        "outputId": "444a3ae9-9602-4968-9675-12dfcd41ab8d"
      },
      "execution_count": null,
      "outputs": [
        {
          "output_type": "stream",
          "name": "stdout",
          "text": [
            "(143964, 1)\n",
            "(143964, 1)\n"
          ]
        }
      ]
    },
    {
      "cell_type": "code",
      "source": [
        "print(prop_score[:10,0])\n",
        "print(iptw[:10,0])"
      ],
      "metadata": {
        "colab": {
          "base_uri": "https://localhost:8080/"
        },
        "id": "_19Pn7VP5Yro",
        "outputId": "be44a5b9-30bd-47e9-eb1e-63e666bd7d5b"
      },
      "execution_count": null,
      "outputs": [
        {
          "output_type": "stream",
          "name": "stdout",
          "text": [
            "[1.8601322e-07 4.8575994e-01 9.9900156e-01 9.9202174e-01 4.3862215e-06\n",
            " 1.4300043e-07 2.8331446e-05 5.1008308e-01 9.9999857e-01 9.9999416e-01]\n",
            "[5.3759620e+06 2.0586300e+00 1.0009995e+00 1.0080425e+00 2.2798667e+05\n",
            " 6.9929855e+06 3.5296469e+04 1.9604650e+00 1.0000014e+00 1.0000058e+00]\n"
          ]
        }
      ]
    },
    {
      "cell_type": "code",
      "source": [
        "trainPred = model.predict(train_x)\n",
        "testPred = model.predict(test_x)\n",
        "print(testPred.shape)\n",
        "print(trainPred.shape)"
      ],
      "metadata": {
        "colab": {
          "base_uri": "https://localhost:8080/"
        },
        "id": "zAjjGMvNw1XD",
        "outputId": "39d55f98-48ec-4c49-bee6-d1e3451fd654"
      },
      "execution_count": null,
      "outputs": [
        {
          "output_type": "stream",
          "name": "stdout",
          "text": [
            "4499/4499 [==============================] - 15s 3ms/step\n",
            "4499/4499 [==============================] - 14s 3ms/step\n",
            "(143964, 1)\n",
            "(143964, 1)\n"
          ]
        }
      ]
    },
    {
      "cell_type": "code",
      "source": [
        "#Reverting data back to 2D from 3D\n",
        "train_x = train_x.reshape(-1, train_x.shape[2])\n",
        "test_x = test_x.reshape(-1, test_x.shape[2])\n",
        "\n",
        "print(train_x.shape)\n",
        "print(trainPred.shape)\n",
        "print(test_x.shape)\n",
        "print(testPred.shape)"
      ],
      "metadata": {
        "id": "9DEFHyomw2Xl",
        "colab": {
          "base_uri": "https://localhost:8080/"
        },
        "outputId": "2a3102db-0afb-4cb2-effe-79de76a34a9f"
      },
      "execution_count": null,
      "outputs": [
        {
          "output_type": "stream",
          "name": "stdout",
          "text": [
            "(3599100, 1)\n",
            "(143964, 1)\n",
            "(3599100, 1)\n",
            "(143964, 1)\n"
          ]
        }
      ]
    },
    {
      "cell_type": "code",
      "source": [
        "# for new dataset\n",
        "\n",
        "target = data_ws_5x5_flat[:,:,-1]\n",
        "cf = data_ws_5x5_flat[:,:, [2,4]] #factual and counterfactual data\n",
        "data = data_ws_5x5_flat[:,:,:3]\n",
        "print(data.shape)\n",
        "print(cf.shape)\n",
        "print(target.shape)"
      ],
      "metadata": {
        "colab": {
          "base_uri": "https://localhost:8080/"
        },
        "id": "pbU-u2qI9AZe",
        "outputId": "3baeb712-a1ce-49fe-cc22-b3ee87a6540a"
      },
      "execution_count": null,
      "outputs": [
        {
          "output_type": "stream",
          "name": "stdout",
          "text": [
            "(143964, 25, 3)\n",
            "(143964, 25, 2)\n",
            "(143964, 25)\n"
          ]
        }
      ]
    },
    {
      "cell_type": "markdown",
      "metadata": {
        "id": "lWyDrrpAQ74Q"
      },
      "source": [
        "## Train Validation Split"
      ]
    },
    {
      "cell_type": "markdown",
      "metadata": {
        "id": "rnbZ9jp0zv4e"
      },
      "source": [
        "LSTM network expects the input data to be provided with a specific array structure in the form of: [samples, time steps, features]. We load the csv file and only retain the feature and target columns. The features and target are stored in separate np arrays."
      ]
    },
    {
      "cell_type": "code",
      "source": [
        "#for new dataset - Train on full dataset\n",
        "\n",
        "LEN_DATA = len(data) #total number of pixels\n",
        "NUM_TRAIN = int(LEN_DATA * 1)\n",
        "\n",
        "print('LEN_DATA:',LEN_DATA)\n",
        "print('NUM_TRAIN:',NUM_TRAIN)\n",
        "\n",
        "x_train = deepcopy(data[:,:,:])\n",
        "x_test = deepcopy(data[:,:,:])\n",
        "\n",
        "#split features and labels\n",
        "y_train= deepcopy(target[:,:]) #target is last column i-e sea-ice\n",
        "y_test= deepcopy(target[:,:]) #target is last column i-e sea-ice\n"
      ],
      "metadata": {
        "colab": {
          "base_uri": "https://localhost:8080/"
        },
        "id": "jd3rzUvG1Q7k",
        "outputId": "58acf441-8de6-4812-a415-c6213b7a96be"
      },
      "execution_count": null,
      "outputs": [
        {
          "output_type": "stream",
          "name": "stdout",
          "text": [
            "LEN_DATA: 143964\n",
            "NUM_TRAIN: 143964\n"
          ]
        }
      ]
    },
    {
      "cell_type": "markdown",
      "source": [
        "## Creating Treated and Untreated versions of Test Data"
      ],
      "metadata": {
        "id": "7O-kPHz63-PQ"
      }
    },
    {
      "cell_type": "code",
      "source": [
        "#for new dataset\n",
        "\n",
        "x_treated = x_test.copy()\n",
        "x_untreated = x_test.copy()\n",
        "x_treated[:,:,1] = data_ws_5x5_flat[:,:,3]"
      ],
      "metadata": {
        "id": "6EX6qICbBGxo"
      },
      "execution_count": null,
      "outputs": []
    },
    {
      "cell_type": "code",
      "metadata": {
        "colab": {
          "base_uri": "https://localhost:8080/"
        },
        "id": "fPxr5VW3ynVk",
        "outputId": "93cc3376-0542-4745-b5f6-34e5eae68748"
      },
      "source": [
        "print('x_train.shape:',x_train.shape)\n",
        "print('y_train.shape:',y_train.shape)\n",
        "print('x_test.shape:',x_test.shape)\n",
        "print('y_test.shape:',y_test.shape)\n",
        "print('x_treated.shape:',x_treated.shape)\n",
        "print('x_untreated.shape:',x_untreated.shape)"
      ],
      "execution_count": null,
      "outputs": [
        {
          "output_type": "stream",
          "name": "stdout",
          "text": [
            "x_train.shape: (143964, 25, 3)\n",
            "y_train.shape: (143964, 25)\n",
            "x_test.shape: (143964, 25, 3)\n",
            "y_test.shape: (143964, 25)\n",
            "x_treated.shape: (143964, 25, 3)\n",
            "x_untreated.shape: (143964, 25, 3)\n"
          ]
        }
      ]
    },
    {
      "cell_type": "markdown",
      "metadata": {
        "id": "8V9PlIs8OUUM"
      },
      "source": [
        "## Reshaping Input and Target Features"
      ]
    },
    {
      "cell_type": "code",
      "metadata": {
        "id": "v8qmWF4VHxrR"
      },
      "source": [
        "# convert an array of values into a dataset matrix\n",
        "def reshape_features(dataset, timesteps=1):\n",
        "    print(dataset.shape)\n",
        "    X = dataset.reshape((int(dataset.shape[0]/timesteps)), timesteps, dataset.shape[1])\n",
        "    return X"
      ],
      "execution_count": null,
      "outputs": []
    },
    {
      "cell_type": "markdown",
      "metadata": {
        "id": "-TOp3WLtJ6xJ"
      },
      "source": [
        "## Normalization\n"
      ]
    },
    {
      "cell_type": "code",
      "source": [
        "#for new dataset\n",
        "\n",
        "x_train_r = x_train.reshape((-1,3))\n",
        "x_test_r = x_test.reshape((-1,3))\n",
        "x_treated_r = x_treated.reshape((-1,3))\n",
        "x_untreated_r = x_untreated.reshape((-1,3))\n",
        "\n",
        "y_train_r = y_train.reshape((-1))\n",
        "y_test_r = y_test.reshape((-1))\n",
        "\n",
        "scaler_f = StandardScaler()\n",
        "x_train_r = scaler_f.fit_transform(x_train_r) #reshaping to 2d for standard scaling\n",
        "x_test_r = scaler_f.transform(x_test_r) #reshaping to 2d for standard scaling\n",
        "x_treated_r = scaler_f.fit_transform(x_treated_r) #reshaping to 2d for standard scaling\n",
        "x_untreated_r = scaler_f.transform(x_untreated_r) #reshaping to 2d for standard scaling\n",
        "\n",
        "scaler_l = StandardScaler()\n",
        "y_train_r = scaler_l.fit_transform(y_train_r.reshape(-1,1)) #reshaping to 2d for standard scaling\n",
        "y_test_r = scaler_l.transform(y_test_r.reshape(-1,1)) #reshaping to 2d for standard scaling\n",
        "\n",
        "x_train = x_train_r.reshape(x_train.shape)\n",
        "x_test = x_test_r.reshape(x_test.shape)\n",
        "x_treated = x_treated_r.reshape(x_treated.shape)\n",
        "x_untreated = x_untreated_r.reshape(x_untreated.shape)\n",
        "\n",
        "y_train = y_train_r.reshape(y_train.shape)\n",
        "y_test = y_test_r.reshape(y_test.shape)"
      ],
      "metadata": {
        "id": "LkpnjrR3DJKp"
      },
      "execution_count": null,
      "outputs": []
    },
    {
      "cell_type": "code",
      "metadata": {
        "colab": {
          "base_uri": "https://localhost:8080/"
        },
        "id": "lDxL_gE5Onx9",
        "outputId": "227f7051-75b7-4727-8d7d-ee5cc26ba56d"
      },
      "source": [
        "print('x_train.shape:',x_train.shape)\n",
        "print('y_train.shape:',y_train.shape)\n",
        "print('x_test.shape:',x_test.shape)\n",
        "print('y_test.shape:',y_test.shape)\n",
        "\n",
        "print('x_treated.shape:',x_treated.shape)\n",
        "print('x_untreated.shape:',x_untreated.shape)"
      ],
      "execution_count": null,
      "outputs": [
        {
          "output_type": "stream",
          "name": "stdout",
          "text": [
            "x_train.shape: (143964, 25, 3)\n",
            "y_train.shape: (143964, 25)\n",
            "x_test.shape: (143964, 25, 3)\n",
            "y_test.shape: (143964, 25)\n",
            "x_treated.shape: (143964, 25, 3)\n",
            "x_untreated.shape: (143964, 25, 3)\n"
          ]
        }
      ]
    },
    {
      "cell_type": "markdown",
      "metadata": {
        "id": "HRaNlUDXr7Qt"
      },
      "source": [
        "## Building Model"
      ]
    },
    {
      "cell_type": "code",
      "source": [
        "import tensorflow as tf\n",
        "import numpy as np\n",
        "\n",
        "from tensorflow.keras.layers import Input\n",
        "from tensorflow.keras.layers import Dense\n",
        "from tensorflow.keras.layers import Concatenate\n",
        "from tensorflow.keras import regularizers\n",
        "from tensorflow.keras import Model\n",
        "from tensorflow.keras.losses import binary_crossentropy\n",
        "from tensorflow.keras.metrics import binary_accuracy\n",
        "from tensorflow.keras.losses import Loss\n",
        "#from attention import Attention\n",
        "\n",
        "def myModelMain(timestep, features, reg_l2):\n",
        "\n",
        "    x = Input(shape=(timestep,features), name='input')\n",
        "\n",
        "    # representation\n",
        "    phi = LSTM(64, return_sequences=True,name='phi_1')(x)\n",
        "    phi = Dropout(0.2)(phi)\n",
        "    phi = LSTM(32, return_sequences=True,name='phi_2')(phi)\n",
        "    phi = LSTM(32, return_sequences=False,name='phi_3')(phi)\n",
        "    phi = Dense(units=25, activation='elu', kernel_initializer='RandomNormal',name='phi_4')(phi)\n",
        "    phi = Dropout(0.2)(phi)\n",
        "\n",
        "    y0_hidden = Dense(units=25, activation='elu', kernel_regularizer=regularizers.l2(reg_l2),name='y0_hidden_1')(phi)\n",
        "    y0_hidden = Dense(units=25, activation='elu', kernel_regularizer=regularizers.l2(reg_l2),name='y0_hidden_2')(y0_hidden)\n",
        "    y0_predictions = Dense(units=25, activation=None, kernel_regularizer=regularizers.l2(reg_l2), name='y0_predictions')(y0_hidden)\n",
        "    model = Model(inputs=x, outputs=y0_predictions)\n",
        "\n",
        "    return model"
      ],
      "metadata": {
        "id": "ezYdtpz9Levl"
      },
      "execution_count": null,
      "outputs": []
    },
    {
      "cell_type": "code",
      "source": [
        "model1=myModelMain(25,3, .01)\n",
        "\n",
        "print(model1.summary())\n",
        "tf.keras.utils.plot_model(model1, show_shapes=True, show_layer_names=True, to_file='slearner.png')"
      ],
      "metadata": {
        "colab": {
          "base_uri": "https://localhost:8080/",
          "height": 1000
        },
        "id": "nYr9MdZ52YMK",
        "outputId": "a2e82311-bcf7-47e3-9f48-3d47d196aa89"
      },
      "execution_count": null,
      "outputs": [
        {
          "output_type": "stream",
          "name": "stdout",
          "text": [
            "Model: \"model_1\"\n",
            "_________________________________________________________________\n",
            " Layer (type)                Output Shape              Param #   \n",
            "=================================================================\n",
            " input (InputLayer)          [(None, 25, 3)]           0         \n",
            "                                                                 \n",
            " phi_1 (LSTM)                (None, 25, 64)            17408     \n",
            "                                                                 \n",
            " dropout_1 (Dropout)         (None, 25, 64)            0         \n",
            "                                                                 \n",
            " phi_2 (LSTM)                (None, 25, 32)            12416     \n",
            "                                                                 \n",
            " phi_3 (LSTM)                (None, 32)                8320      \n",
            "                                                                 \n",
            " phi_4 (Dense)               (None, 25)                825       \n",
            "                                                                 \n",
            " dropout_2 (Dropout)         (None, 25)                0         \n",
            "                                                                 \n",
            " y0_hidden_1 (Dense)         (None, 25)                650       \n",
            "                                                                 \n",
            " y0_hidden_2 (Dense)         (None, 25)                650       \n",
            "                                                                 \n",
            " y0_predictions (Dense)      (None, 25)                650       \n",
            "                                                                 \n",
            "=================================================================\n",
            "Total params: 40919 (159.84 KB)\n",
            "Trainable params: 40919 (159.84 KB)\n",
            "Non-trainable params: 0 (0.00 Byte)\n",
            "_________________________________________________________________\n",
            "None\n"
          ]
        },
        {
          "output_type": "execute_result",
          "data": {
            "image/png": "[encoded data removed]",
            "text/plain": [
              "<IPython.core.display.Image object>"
            ]
          },
          "metadata": {
            "image/png": {
              "width": 159,
              "height": 534
            }
          },
          "execution_count": 55
        }
      ]
    },
    {
      "cell_type": "markdown",
      "metadata": {
        "id": "qrWXbk9DsTJ1"
      },
      "source": [
        "## Compiling the Network and Fitting Model"
      ]
    },
    {
      "cell_type": "code",
      "source": [
        "# We will use the MSE loss function as base loss\n",
        "loss_fn = tf.keras.losses.MeanSquaredError() #specify the loss"
      ],
      "metadata": {
        "id": "YZWkr66c5nUm"
      },
      "execution_count": null,
      "outputs": []
    },
    {
      "cell_type": "code",
      "source": [
        "from tensorflow.keras.optimizers import SGD\n",
        "\n",
        "val_split=0.2\n",
        "batch_size=64\n",
        "verbose=1\n",
        "i = 0\n",
        "tf.random.set_seed(i)\n",
        "np.random.seed(i)\n",
        "\n",
        "#optimzer hyperparameters\n",
        "sgd_lr = 1e-5\n",
        "momentum = 0.9\n",
        "\n",
        "#Compiling the network\n",
        "model1.compile(loss=loss_fn, optimizer='adam',sample_weight_mode = 'temporal')\n",
        "checkpoint_path='./testmodel.h5'\n",
        "keras_callbacks   = [\n",
        "      EarlyStopping(monitor='val_loss', patience=60, mode='min', min_delta=0.001),\n",
        "      ModelCheckpoint(checkpoint_path, monitor='val_loss', save_best_only=True, mode='min')\n",
        "]\n",
        "\n",
        "model1.fit(x=x_train,y=y_train,\n",
        "                validation_split=0.2,\n",
        "                epochs=50,\n",
        "                batch_size=batch_size,\n",
        "                shuffle=True,\n",
        "                sample_weight=iptw,\n",
        "                callbacks=keras_callbacks,\n",
        "                verbose=verbose)\n"
      ],
      "metadata": {
        "id": "k0wuSyCn8ozd",
        "colab": {
          "base_uri": "https://localhost:8080/"
        },
        "outputId": "cb4e2b12-6a12-4e0d-c0ef-d489c0c192b7"
      },
      "execution_count": null,
      "outputs": [
        {
          "output_type": "stream",
          "name": "stdout",
          "text": [
            "Epoch 1/50\n",
            "1797/1800 [============================>.] - ETA: 0s - loss: 210127.1250"
          ]
        },
        {
          "output_type": "stream",
          "name": "stderr",
          "text": [
            "WARNING:tensorflow:`evaluate()` received a value for `sample_weight`, but `weighted_metrics` were not provided.  Did you mean to pass metrics to `weighted_metrics` in `compile()`?  If this is intentional you can pass `weighted_metrics=[]` to `compile()` in order to silence this warning.\n"
          ]
        },
        {
          "output_type": "stream",
          "name": "stdout",
          "text": [
            "\b\b\b\b\b\b\b\b\b\b\b\b\b\b\b\b\b\b\b\b\b\b\b\b\b\b\b\b\b\b\b\b\b\b\b\b\b\b\b\b\b\b\b\b\b\b\b\b\b\b\b\b\b\b\b\b\b\b\b\b\b\b\b\b\b\b\b\b\b\b\b\b\r1800/1800 [==============================] - 32s 13ms/step - loss: 209904.0781 - val_loss: 675126.1250\n",
            "Epoch 2/50\n",
            "  13/1800 [..............................] - ETA: 15s - loss: 79146.5703"
          ]
        },
        {
          "output_type": "stream",
          "name": "stderr",
          "text": [
            "/usr/local/lib/python3.10/dist-packages/keras/src/engine/training.py:3103: UserWarning: You are saving your model as an HDF5 file via `model.save()`. This file format is considered legacy. We recommend using instead the native Keras format, e.g. `model.save('my_model.keras')`.\n",
            "  saving_api.save_model(\n"
          ]
        },
        {
          "output_type": "stream",
          "name": "stdout",
          "text": [
            "1797/1800 [============================>.] - ETA: 0s - loss: 65773.8828"
          ]
        },
        {
          "output_type": "stream",
          "name": "stderr",
          "text": [
            "WARNING:tensorflow:`evaluate()` received a value for `sample_weight`, but `weighted_metrics` were not provided.  Did you mean to pass metrics to `weighted_metrics` in `compile()`?  If this is intentional you can pass `weighted_metrics=[]` to `compile()` in order to silence this warning.\n"
          ]
        },
        {
          "output_type": "stream",
          "name": "stdout",
          "text": [
            "\b\b\b\b\b\b\b\b\b\b\b\b\b\b\b\b\b\b\b\b\b\b\b\b\b\b\b\b\b\b\b\b\b\b\b\b\b\b\b\b\b\b\b\b\b\b\b\b\b\b\b\b\b\b\b\b\b\b\b\b\b\b\b\b\b\b\b\b\b\b\b\r1800/1800 [==============================] - 21s 12ms/step - loss: 65728.8047 - val_loss: 625477.8125\n",
            "Epoch 3/50\n",
            "1797/1800 [============================>.] - ETA: 0s - loss: 45015.0430"
          ]
        },
        {
          "output_type": "stream",
          "name": "stderr",
          "text": [
            "WARNING:tensorflow:`evaluate()` received a value for `sample_weight`, but `weighted_metrics` were not provided.  Did you mean to pass metrics to `weighted_metrics` in `compile()`?  If this is intentional you can pass `weighted_metrics=[]` to `compile()` in order to silence this warning.\n"
          ]
        },
        {
          "output_type": "stream",
          "name": "stdout",
          "text": [
            "\b\b\b\b\b\b\b\b\b\b\b\b\b\b\b\b\b\b\b\b\b\b\b\b\b\b\b\b\b\b\b\b\b\b\b\b\b\b\b\b\b\b\b\b\b\b\b\b\b\b\b\b\b\b\b\b\b\b\b\b\b\b\b\b\b\b\b\b\b\b\b\r1800/1800 [==============================] - 21s 12ms/step - loss: 44985.0859 - val_loss: 791071.8750\n",
            "Epoch 4/50\n",
            "1795/1800 [============================>.] - ETA: 0s - loss: 35863.4648"
          ]
        },
        {
          "output_type": "stream",
          "name": "stderr",
          "text": [
            "WARNING:tensorflow:`evaluate()` received a value for `sample_weight`, but `weighted_metrics` were not provided.  Did you mean to pass metrics to `weighted_metrics` in `compile()`?  If this is intentional you can pass `weighted_metrics=[]` to `compile()` in order to silence this warning.\n"
          ]
        },
        {
          "output_type": "stream",
          "name": "stdout",
          "text": [
            "\b\b\b\b\b\b\b\b\b\b\b\b\b\b\b\b\b\b\b\b\b\b\b\b\b\b\b\b\b\b\b\b\b\b\b\b\b\b\b\b\b\b\b\b\b\b\b\b\b\b\b\b\b\b\b\b\b\b\b\b\b\b\b\b\b\b\b\b\b\b\b\r1800/1800 [==============================] - 21s 11ms/step - loss: 35836.6367 - val_loss: 908730.9375\n",
            "Epoch 5/50\n",
            "1800/1800 [==============================] - ETA: 0s - loss: 30401.1914"
          ]
        },
        {
          "output_type": "stream",
          "name": "stderr",
          "text": [
            "WARNING:tensorflow:`evaluate()` received a value for `sample_weight`, but `weighted_metrics` were not provided.  Did you mean to pass metrics to `weighted_metrics` in `compile()`?  If this is intentional you can pass `weighted_metrics=[]` to `compile()` in order to silence this warning.\n"
          ]
        },
        {
          "output_type": "stream",
          "name": "stdout",
          "text": [
            "\b\b\b\b\b\b\b\b\b\b\b\b\b\b\b\b\b\b\b\b\b\b\b\b\b\b\b\b\b\b\b\b\b\b\b\b\b\b\b\b\b\b\b\b\b\b\b\b\b\b\b\b\b\b\b\b\b\b\b\b\b\b\b\b\b\b\b\b\b\b\b\r1800/1800 [==============================] - 21s 12ms/step - loss: 30401.1914 - val_loss: 829317.6875\n",
            "Epoch 6/50\n",
            "1798/1800 [============================>.] - ETA: 0s - loss: 25657.6348"
          ]
        },
        {
          "output_type": "stream",
          "name": "stderr",
          "text": [
            "WARNING:tensorflow:`evaluate()` received a value for `sample_weight`, but `weighted_metrics` were not provided.  Did you mean to pass metrics to `weighted_metrics` in `compile()`?  If this is intentional you can pass `weighted_metrics=[]` to `compile()` in order to silence this warning.\n"
          ]
        },
        {
          "output_type": "stream",
          "name": "stdout",
          "text": [
            "\b\b\b\b\b\b\b\b\b\b\b\b\b\b\b\b\b\b\b\b\b\b\b\b\b\b\b\b\b\b\b\b\b\b\b\b\b\b\b\b\b\b\b\b\b\b\b\b\b\b\b\b\b\b\b\b\b\b\b\b\b\b\b\b\b\b\b\b\b\b\b\r1800/1800 [==============================] - 21s 12ms/step - loss: 25656.4004 - val_loss: 757869.2500\n",
            "Epoch 7/50\n",
            "1797/1800 [============================>.] - ETA: 0s - loss: 22968.1484"
          ]
        },
        {
          "output_type": "stream",
          "name": "stderr",
          "text": [
            "WARNING:tensorflow:`evaluate()` received a value for `sample_weight`, but `weighted_metrics` were not provided.  Did you mean to pass metrics to `weighted_metrics` in `compile()`?  If this is intentional you can pass `weighted_metrics=[]` to `compile()` in order to silence this warning.\n"
          ]
        },
        {
          "output_type": "stream",
          "name": "stdout",
          "text": [
            "\b\b\b\b\b\b\b\b\b\b\b\b\b\b\b\b\b\b\b\b\b\b\b\b\b\b\b\b\b\b\b\b\b\b\b\b\b\b\b\b\b\b\b\b\b\b\b\b\b\b\b\b\b\b\b\b\b\b\b\b\b\b\b\b\b\b\b\b\b\b\b\r1800/1800 [==============================] - 21s 11ms/step - loss: 22962.2441 - val_loss: 708935.3125\n",
            "Epoch 8/50\n",
            "1797/1800 [============================>.] - ETA: 0s - loss: 22101.8184"
          ]
        },
        {
          "output_type": "stream",
          "name": "stderr",
          "text": [
            "WARNING:tensorflow:`evaluate()` received a value for `sample_weight`, but `weighted_metrics` were not provided.  Did you mean to pass metrics to `weighted_metrics` in `compile()`?  If this is intentional you can pass `weighted_metrics=[]` to `compile()` in order to silence this warning.\n"
          ]
        },
        {
          "output_type": "stream",
          "name": "stdout",
          "text": [
            "\b\b\b\b\b\b\b\b\b\b\b\b\b\b\b\b\b\b\b\b\b\b\b\b\b\b\b\b\b\b\b\b\b\b\b\b\b\b\b\b\b\b\b\b\b\b\b\b\b\b\b\b\b\b\b\b\b\b\b\b\b\b\b\b\b\b\b\b\b\b\b\r1800/1800 [==============================] - 21s 12ms/step - loss: 22114.0117 - val_loss: 792294.1875\n",
            "Epoch 9/50\n",
            "1798/1800 [============================>.] - ETA: 0s - loss: 18511.6660"
          ]
        },
        {
          "output_type": "stream",
          "name": "stderr",
          "text": [
            "WARNING:tensorflow:`evaluate()` received a value for `sample_weight`, but `weighted_metrics` were not provided.  Did you mean to pass metrics to `weighted_metrics` in `compile()`?  If this is intentional you can pass `weighted_metrics=[]` to `compile()` in order to silence this warning.\n"
          ]
        },
        {
          "output_type": "stream",
          "name": "stdout",
          "text": [
            "\b\b\b\b\b\b\b\b\b\b\b\b\b\b\b\b\b\b\b\b\b\b\b\b\b\b\b\b\b\b\b\b\b\b\b\b\b\b\b\b\b\b\b\b\b\b\b\b\b\b\b\b\b\b\b\b\b\b\b\b\b\b\b\b\b\b\b\b\b\b\b\r1800/1800 [==============================] - 20s 11ms/step - loss: 18523.1348 - val_loss: 833261.5625\n",
            "Epoch 10/50\n",
            "1796/1800 [============================>.] - ETA: 0s - loss: 17385.1504"
          ]
        },
        {
          "output_type": "stream",
          "name": "stderr",
          "text": [
            "WARNING:tensorflow:`evaluate()` received a value for `sample_weight`, but `weighted_metrics` were not provided.  Did you mean to pass metrics to `weighted_metrics` in `compile()`?  If this is intentional you can pass `weighted_metrics=[]` to `compile()` in order to silence this warning.\n"
          ]
        },
        {
          "output_type": "stream",
          "name": "stdout",
          "text": [
            "\b\b\b\b\b\b\b\b\b\b\b\b\b\b\b\b\b\b\b\b\b\b\b\b\b\b\b\b\b\b\b\b\b\b\b\b\b\b\b\b\b\b\b\b\b\b\b\b\b\b\b\b\b\b\b\b\b\b\b\b\b\b\b\b\b\b\b\b\b\b\b\r1800/1800 [==============================] - 19s 10ms/step - loss: 17387.5645 - val_loss: 671543.0625\n",
            "Epoch 11/50\n",
            "1798/1800 [============================>.] - ETA: 0s - loss: 16561.0430"
          ]
        },
        {
          "output_type": "stream",
          "name": "stderr",
          "text": [
            "WARNING:tensorflow:`evaluate()` received a value for `sample_weight`, but `weighted_metrics` were not provided.  Did you mean to pass metrics to `weighted_metrics` in `compile()`?  If this is intentional you can pass `weighted_metrics=[]` to `compile()` in order to silence this warning.\n"
          ]
        },
        {
          "output_type": "stream",
          "name": "stdout",
          "text": [
            "\b\b\b\b\b\b\b\b\b\b\b\b\b\b\b\b\b\b\b\b\b\b\b\b\b\b\b\b\b\b\b\b\b\b\b\b\b\b\b\b\b\b\b\b\b\b\b\b\b\b\b\b\b\b\b\b\b\b\b\b\b\b\b\b\b\b\b\b\b\b\b\r1800/1800 [==============================] - 19s 11ms/step - loss: 16557.7891 - val_loss: 790901.5000\n",
            "Epoch 12/50\n",
            "1800/1800 [==============================] - ETA: 0s - loss: 14954.3564"
          ]
        },
        {
          "output_type": "stream",
          "name": "stderr",
          "text": [
            "WARNING:tensorflow:`evaluate()` received a value for `sample_weight`, but `weighted_metrics` were not provided.  Did you mean to pass metrics to `weighted_metrics` in `compile()`?  If this is intentional you can pass `weighted_metrics=[]` to `compile()` in order to silence this warning.\n"
          ]
        },
        {
          "output_type": "stream",
          "name": "stdout",
          "text": [
            "\b\b\b\b\b\b\b\b\b\b\b\b\b\b\b\b\b\b\b\b\b\b\b\b\b\b\b\b\b\b\b\b\b\b\b\b\b\b\b\b\b\b\b\b\b\b\b\b\b\b\b\b\b\b\b\b\b\b\b\b\b\b\b\b\b\b\b\b\b\b\b\r1800/1800 [==============================] - 19s 10ms/step - loss: 14954.3564 - val_loss: 771674.6250\n",
            "Epoch 13/50\n",
            "1796/1800 [============================>.] - ETA: 0s - loss: 13397.3711"
          ]
        },
        {
          "output_type": "stream",
          "name": "stderr",
          "text": [
            "WARNING:tensorflow:`evaluate()` received a value for `sample_weight`, but `weighted_metrics` were not provided.  Did you mean to pass metrics to `weighted_metrics` in `compile()`?  If this is intentional you can pass `weighted_metrics=[]` to `compile()` in order to silence this warning.\n"
          ]
        },
        {
          "output_type": "stream",
          "name": "stdout",
          "text": [
            "\b\b\b\b\b\b\b\b\b\b\b\b\b\b\b\b\b\b\b\b\b\b\b\b\b\b\b\b\b\b\b\b\b\b\b\b\b\b\b\b\b\b\b\b\b\b\b\b\b\b\b\b\b\b\b\b\b\b\b\b\b\b\b\b\b\b\b\b\b\b\b\r1800/1800 [==============================] - 19s 11ms/step - loss: 13393.4512 - val_loss: 783678.8750\n",
            "Epoch 14/50\n",
            "1799/1800 [============================>.] - ETA: 0s - loss: 12979.4453"
          ]
        },
        {
          "output_type": "stream",
          "name": "stderr",
          "text": [
            "WARNING:tensorflow:`evaluate()` received a value for `sample_weight`, but `weighted_metrics` were not provided.  Did you mean to pass metrics to `weighted_metrics` in `compile()`?  If this is intentional you can pass `weighted_metrics=[]` to `compile()` in order to silence this warning.\n"
          ]
        },
        {
          "output_type": "stream",
          "name": "stdout",
          "text": [
            "\b\b\b\b\b\b\b\b\b\b\b\b\b\b\b\b\b\b\b\b\b\b\b\b\b\b\b\b\b\b\b\b\b\b\b\b\b\b\b\b\b\b\b\b\b\b\b\b\b\b\b\b\b\b\b\b\b\b\b\b\b\b\b\b\b\b\b\b\b\b\b\r1800/1800 [==============================] - 19s 11ms/step - loss: 12976.5420 - val_loss: 819305.2500\n",
            "Epoch 15/50\n",
            "1798/1800 [============================>.] - ETA: 0s - loss: 11667.4824"
          ]
        },
        {
          "output_type": "stream",
          "name": "stderr",
          "text": [
            "WARNING:tensorflow:`evaluate()` received a value for `sample_weight`, but `weighted_metrics` were not provided.  Did you mean to pass metrics to `weighted_metrics` in `compile()`?  If this is intentional you can pass `weighted_metrics=[]` to `compile()` in order to silence this warning.\n"
          ]
        },
        {
          "output_type": "stream",
          "name": "stdout",
          "text": [
            "\b\b\b\b\b\b\b\b\b\b\b\b\b\b\b\b\b\b\b\b\b\b\b\b\b\b\b\b\b\b\b\b\b\b\b\b\b\b\b\b\b\b\b\b\b\b\b\b\b\b\b\b\b\b\b\b\b\b\b\b\b\b\b\b\b\b\b\b\b\b\b\r1800/1800 [==============================] - 19s 10ms/step - loss: 11664.2783 - val_loss: 823781.0000\n",
            "Epoch 16/50\n",
            "1799/1800 [============================>.] - ETA: 0s - loss: 11838.5703"
          ]
        },
        {
          "output_type": "stream",
          "name": "stderr",
          "text": [
            "WARNING:tensorflow:`evaluate()` received a value for `sample_weight`, but `weighted_metrics` were not provided.  Did you mean to pass metrics to `weighted_metrics` in `compile()`?  If this is intentional you can pass `weighted_metrics=[]` to `compile()` in order to silence this warning.\n"
          ]
        },
        {
          "output_type": "stream",
          "name": "stdout",
          "text": [
            "\b\b\b\b\b\b\b\b\b\b\b\b\b\b\b\b\b\b\b\b\b\b\b\b\b\b\b\b\b\b\b\b\b\b\b\b\b\b\b\b\b\b\b\b\b\b\b\b\b\b\b\b\b\b\b\b\b\b\b\b\b\b\b\b\b\b\b\b\b\b\b\r1800/1800 [==============================] - 19s 11ms/step - loss: 11835.9678 - val_loss: 852887.8125\n",
            "Epoch 17/50\n",
            "1795/1800 [============================>.] - ETA: 0s - loss: 10317.4697"
          ]
        },
        {
          "output_type": "stream",
          "name": "stderr",
          "text": [
            "WARNING:tensorflow:`evaluate()` received a value for `sample_weight`, but `weighted_metrics` were not provided.  Did you mean to pass metrics to `weighted_metrics` in `compile()`?  If this is intentional you can pass `weighted_metrics=[]` to `compile()` in order to silence this warning.\n"
          ]
        },
        {
          "output_type": "stream",
          "name": "stdout",
          "text": [
            "\b\b\b\b\b\b\b\b\b\b\b\b\b\b\b\b\b\b\b\b\b\b\b\b\b\b\b\b\b\b\b\b\b\b\b\b\b\b\b\b\b\b\b\b\b\b\b\b\b\b\b\b\b\b\b\b\b\b\b\b\b\b\b\b\b\b\b\b\b\b\b\r1800/1800 [==============================] - 19s 10ms/step - loss: 10313.1260 - val_loss: 1012501.8750\n",
            "Epoch 18/50\n",
            "1795/1800 [============================>.] - ETA: 0s - loss: 10188.5430"
          ]
        },
        {
          "output_type": "stream",
          "name": "stderr",
          "text": [
            "WARNING:tensorflow:`evaluate()` received a value for `sample_weight`, but `weighted_metrics` were not provided.  Did you mean to pass metrics to `weighted_metrics` in `compile()`?  If this is intentional you can pass `weighted_metrics=[]` to `compile()` in order to silence this warning.\n"
          ]
        },
        {
          "output_type": "stream",
          "name": "stdout",
          "text": [
            "\b\b\b\b\b\b\b\b\b\b\b\b\b\b\b\b\b\b\b\b\b\b\b\b\b\b\b\b\b\b\b\b\b\b\b\b\b\b\b\b\b\b\b\b\b\b\b\b\b\b\b\b\b\b\b\b\b\b\b\b\b\b\b\b\b\b\b\b\b\b\b\r1800/1800 [==============================] - 19s 11ms/step - loss: 10181.7344 - val_loss: 988948.6250\n",
            "Epoch 19/50\n",
            "1800/1800 [==============================] - ETA: 0s - loss: 9347.9570"
          ]
        },
        {
          "output_type": "stream",
          "name": "stderr",
          "text": [
            "WARNING:tensorflow:`evaluate()` received a value for `sample_weight`, but `weighted_metrics` were not provided.  Did you mean to pass metrics to `weighted_metrics` in `compile()`?  If this is intentional you can pass `weighted_metrics=[]` to `compile()` in order to silence this warning.\n"
          ]
        },
        {
          "output_type": "stream",
          "name": "stdout",
          "text": [
            "\b\b\b\b\b\b\b\b\b\b\b\b\b\b\b\b\b\b\b\b\b\b\b\b\b\b\b\b\b\b\b\b\b\b\b\b\b\b\b\b\b\b\b\b\b\b\b\b\b\b\b\b\b\b\b\b\b\b\b\b\b\b\b\b\b\b\b\b\b\b\r1800/1800 [==============================] - 19s 10ms/step - loss: 9347.9570 - val_loss: 1146948.8750\n",
            "Epoch 20/50\n",
            "1798/1800 [============================>.] - ETA: 0s - loss: 9881.9219"
          ]
        },
        {
          "output_type": "stream",
          "name": "stderr",
          "text": [
            "WARNING:tensorflow:`evaluate()` received a value for `sample_weight`, but `weighted_metrics` were not provided.  Did you mean to pass metrics to `weighted_metrics` in `compile()`?  If this is intentional you can pass `weighted_metrics=[]` to `compile()` in order to silence this warning.\n"
          ]
        },
        {
          "output_type": "stream",
          "name": "stdout",
          "text": [
            "\b\b\b\b\b\b\b\b\b\b\b\b\b\b\b\b\b\b\b\b\b\b\b\b\b\b\b\b\b\b\b\b\b\b\b\b\b\b\b\b\b\b\b\b\b\b\b\b\b\b\b\b\b\b\b\b\b\b\b\b\b\b\b\b\b\b\b\b\b\b\r1800/1800 [==============================] - 19s 11ms/step - loss: 9879.5938 - val_loss: 928454.5000\n",
            "Epoch 21/50\n",
            "1796/1800 [============================>.] - ETA: 0s - loss: 8299.7852"
          ]
        },
        {
          "output_type": "stream",
          "name": "stderr",
          "text": [
            "WARNING:tensorflow:`evaluate()` received a value for `sample_weight`, but `weighted_metrics` were not provided.  Did you mean to pass metrics to `weighted_metrics` in `compile()`?  If this is intentional you can pass `weighted_metrics=[]` to `compile()` in order to silence this warning.\n"
          ]
        },
        {
          "output_type": "stream",
          "name": "stdout",
          "text": [
            "\b\b\b\b\b\b\b\b\b\b\b\b\b\b\b\b\b\b\b\b\b\b\b\b\b\b\b\b\b\b\b\b\b\b\b\b\b\b\b\b\b\b\b\b\b\b\b\b\b\b\b\b\b\b\b\b\b\b\b\b\b\b\b\b\b\b\b\b\b\b\r1800/1800 [==============================] - 19s 10ms/step - loss: 8299.0869 - val_loss: 845127.7500\n",
            "Epoch 22/50\n",
            "1795/1800 [============================>.] - ETA: 0s - loss: 8187.2773"
          ]
        },
        {
          "output_type": "stream",
          "name": "stderr",
          "text": [
            "WARNING:tensorflow:`evaluate()` received a value for `sample_weight`, but `weighted_metrics` were not provided.  Did you mean to pass metrics to `weighted_metrics` in `compile()`?  If this is intentional you can pass `weighted_metrics=[]` to `compile()` in order to silence this warning.\n"
          ]
        },
        {
          "output_type": "stream",
          "name": "stdout",
          "text": [
            "\b\b\b\b\b\b\b\b\b\b\b\b\b\b\b\b\b\b\b\b\b\b\b\b\b\b\b\b\b\b\b\b\b\b\b\b\b\b\b\b\b\b\b\b\b\b\b\b\b\b\b\b\b\b\b\b\b\b\b\b\b\b\b\b\b\b\b\b\b\b\r1800/1800 [==============================] - 19s 11ms/step - loss: 8186.6938 - val_loss: 1065703.3750\n",
            "Epoch 23/50\n",
            "1797/1800 [============================>.] - ETA: 0s - loss: 8381.5791"
          ]
        },
        {
          "output_type": "stream",
          "name": "stderr",
          "text": [
            "WARNING:tensorflow:`evaluate()` received a value for `sample_weight`, but `weighted_metrics` were not provided.  Did you mean to pass metrics to `weighted_metrics` in `compile()`?  If this is intentional you can pass `weighted_metrics=[]` to `compile()` in order to silence this warning.\n"
          ]
        },
        {
          "output_type": "stream",
          "name": "stdout",
          "text": [
            "\b\b\b\b\b\b\b\b\b\b\b\b\b\b\b\b\b\b\b\b\b\b\b\b\b\b\b\b\b\b\b\b\b\b\b\b\b\b\b\b\b\b\b\b\b\b\b\b\b\b\b\b\b\b\b\b\b\b\b\b\b\b\b\b\b\b\b\b\b\b\r1800/1800 [==============================] - 19s 11ms/step - loss: 8381.2246 - val_loss: 982585.0000\n",
            "Epoch 24/50\n",
            "1795/1800 [============================>.] - ETA: 0s - loss: 7778.9419"
          ]
        },
        {
          "output_type": "stream",
          "name": "stderr",
          "text": [
            "WARNING:tensorflow:`evaluate()` received a value for `sample_weight`, but `weighted_metrics` were not provided.  Did you mean to pass metrics to `weighted_metrics` in `compile()`?  If this is intentional you can pass `weighted_metrics=[]` to `compile()` in order to silence this warning.\n"
          ]
        },
        {
          "output_type": "stream",
          "name": "stdout",
          "text": [
            "\b\b\b\b\b\b\b\b\b\b\b\b\b\b\b\b\b\b\b\b\b\b\b\b\b\b\b\b\b\b\b\b\b\b\b\b\b\b\b\b\b\b\b\b\b\b\b\b\b\b\b\b\b\b\b\b\b\b\b\b\b\b\b\b\b\b\b\b\b\b\r1800/1800 [==============================] - 19s 10ms/step - loss: 7772.9321 - val_loss: 1163150.0000\n",
            "Epoch 25/50\n",
            "1798/1800 [============================>.] - ETA: 0s - loss: 8489.6162"
          ]
        },
        {
          "output_type": "stream",
          "name": "stderr",
          "text": [
            "WARNING:tensorflow:`evaluate()` received a value for `sample_weight`, but `weighted_metrics` were not provided.  Did you mean to pass metrics to `weighted_metrics` in `compile()`?  If this is intentional you can pass `weighted_metrics=[]` to `compile()` in order to silence this warning.\n"
          ]
        },
        {
          "output_type": "stream",
          "name": "stdout",
          "text": [
            "\b\b\b\b\b\b\b\b\b\b\b\b\b\b\b\b\b\b\b\b\b\b\b\b\b\b\b\b\b\b\b\b\b\b\b\b\b\b\b\b\b\b\b\b\b\b\b\b\b\b\b\b\b\b\b\b\b\b\b\b\b\b\b\b\b\b\b\b\b\b\r1800/1800 [==============================] - 19s 11ms/step - loss: 8486.6113 - val_loss: 830795.6875\n",
            "Epoch 26/50\n",
            "1800/1800 [==============================] - ETA: 0s - loss: 7294.1675"
          ]
        },
        {
          "output_type": "stream",
          "name": "stderr",
          "text": [
            "WARNING:tensorflow:`evaluate()` received a value for `sample_weight`, but `weighted_metrics` were not provided.  Did you mean to pass metrics to `weighted_metrics` in `compile()`?  If this is intentional you can pass `weighted_metrics=[]` to `compile()` in order to silence this warning.\n"
          ]
        },
        {
          "output_type": "stream",
          "name": "stdout",
          "text": [
            "\b\b\b\b\b\b\b\b\b\b\b\b\b\b\b\b\b\b\b\b\b\b\b\b\b\b\b\b\b\b\b\b\b\b\b\b\b\b\b\b\b\b\b\b\b\b\b\b\b\b\b\b\b\b\b\b\b\b\b\b\b\b\b\b\b\b\b\b\b\b\r1800/1800 [==============================] - 19s 10ms/step - loss: 7294.1675 - val_loss: 853629.1875\n",
            "Epoch 27/50\n",
            "1799/1800 [============================>.] - ETA: 0s - loss: 6766.6602"
          ]
        },
        {
          "output_type": "stream",
          "name": "stderr",
          "text": [
            "WARNING:tensorflow:`evaluate()` received a value for `sample_weight`, but `weighted_metrics` were not provided.  Did you mean to pass metrics to `weighted_metrics` in `compile()`?  If this is intentional you can pass `weighted_metrics=[]` to `compile()` in order to silence this warning.\n"
          ]
        },
        {
          "output_type": "stream",
          "name": "stdout",
          "text": [
            "\b\b\b\b\b\b\b\b\b\b\b\b\b\b\b\b\b\b\b\b\b\b\b\b\b\b\b\b\b\b\b\b\b\b\b\b\b\b\b\b\b\b\b\b\b\b\b\b\b\b\b\b\b\b\b\b\b\b\b\b\b\b\b\b\b\b\b\b\b\b\r1800/1800 [==============================] - 20s 11ms/step - loss: 6768.1133 - val_loss: 982103.8125\n",
            "Epoch 28/50\n",
            "1799/1800 [============================>.] - ETA: 0s - loss: 7560.8271"
          ]
        },
        {
          "output_type": "stream",
          "name": "stderr",
          "text": [
            "WARNING:tensorflow:`evaluate()` received a value for `sample_weight`, but `weighted_metrics` were not provided.  Did you mean to pass metrics to `weighted_metrics` in `compile()`?  If this is intentional you can pass `weighted_metrics=[]` to `compile()` in order to silence this warning.\n"
          ]
        },
        {
          "output_type": "stream",
          "name": "stdout",
          "text": [
            "\b\b\b\b\b\b\b\b\b\b\b\b\b\b\b\b\b\b\b\b\b\b\b\b\b\b\b\b\b\b\b\b\b\b\b\b\b\b\b\b\b\b\b\b\b\b\b\b\b\b\b\b\b\b\b\b\b\b\b\b\b\b\b\b\b\b\b\b\b\b\r1800/1800 [==============================] - 19s 11ms/step - loss: 7561.0278 - val_loss: 1012451.7500\n",
            "Epoch 29/50\n",
            "1798/1800 [============================>.] - ETA: 0s - loss: 6525.3423"
          ]
        },
        {
          "output_type": "stream",
          "name": "stderr",
          "text": [
            "WARNING:tensorflow:`evaluate()` received a value for `sample_weight`, but `weighted_metrics` were not provided.  Did you mean to pass metrics to `weighted_metrics` in `compile()`?  If this is intentional you can pass `weighted_metrics=[]` to `compile()` in order to silence this warning.\n"
          ]
        },
        {
          "output_type": "stream",
          "name": "stdout",
          "text": [
            "\b\b\b\b\b\b\b\b\b\b\b\b\b\b\b\b\b\b\b\b\b\b\b\b\b\b\b\b\b\b\b\b\b\b\b\b\b\b\b\b\b\b\b\b\b\b\b\b\b\b\b\b\b\b\b\b\b\b\b\b\b\b\b\b\b\b\b\b\b\b\r1800/1800 [==============================] - 20s 11ms/step - loss: 6523.4043 - val_loss: 2188443.5000\n",
            "Epoch 30/50\n",
            "1799/1800 [============================>.] - ETA: 0s - loss: 6990.8003"
          ]
        },
        {
          "output_type": "stream",
          "name": "stderr",
          "text": [
            "WARNING:tensorflow:`evaluate()` received a value for `sample_weight`, but `weighted_metrics` were not provided.  Did you mean to pass metrics to `weighted_metrics` in `compile()`?  If this is intentional you can pass `weighted_metrics=[]` to `compile()` in order to silence this warning.\n"
          ]
        },
        {
          "output_type": "stream",
          "name": "stdout",
          "text": [
            "\b\b\b\b\b\b\b\b\b\b\b\b\b\b\b\b\b\b\b\b\b\b\b\b\b\b\b\b\b\b\b\b\b\b\b\b\b\b\b\b\b\b\b\b\b\b\b\b\b\b\b\b\b\b\b\b\b\b\b\b\b\b\b\b\b\b\b\b\b\b\r1800/1800 [==============================] - 19s 11ms/step - loss: 6989.9248 - val_loss: 606757.3125\n",
            "Epoch 31/50\n",
            "1795/1800 [============================>.] - ETA: 0s - loss: 5680.4141"
          ]
        },
        {
          "output_type": "stream",
          "name": "stderr",
          "text": [
            "WARNING:tensorflow:`evaluate()` received a value for `sample_weight`, but `weighted_metrics` were not provided.  Did you mean to pass metrics to `weighted_metrics` in `compile()`?  If this is intentional you can pass `weighted_metrics=[]` to `compile()` in order to silence this warning.\n"
          ]
        },
        {
          "output_type": "stream",
          "name": "stdout",
          "text": [
            "\b\b\b\b\b\b\b\b\b\b\b\b\b\b\b\b\b\b\b\b\b\b\b\b\b\b\b\b\b\b\b\b\b\b\b\b\b\b\b\b\b\b\b\b\b\b\b\b\b\b\b\b\b\b\b\b\b\b\b\b\b\b\b\b\b\b\b\b\b\b\r1800/1800 [==============================] - 19s 10ms/step - loss: 5677.5996 - val_loss: 1112676.5000\n",
            "Epoch 32/50\n",
            "1800/1800 [==============================] - ETA: 0s - loss: 6090.3320"
          ]
        },
        {
          "output_type": "stream",
          "name": "stderr",
          "text": [
            "WARNING:tensorflow:`evaluate()` received a value for `sample_weight`, but `weighted_metrics` were not provided.  Did you mean to pass metrics to `weighted_metrics` in `compile()`?  If this is intentional you can pass `weighted_metrics=[]` to `compile()` in order to silence this warning.\n"
          ]
        },
        {
          "output_type": "stream",
          "name": "stdout",
          "text": [
            "\b\b\b\b\b\b\b\b\b\b\b\b\b\b\b\b\b\b\b\b\b\b\b\b\b\b\b\b\b\b\b\b\b\b\b\b\b\b\b\b\b\b\b\b\b\b\b\b\b\b\b\b\b\b\b\b\b\b\b\b\b\b\b\b\b\b\b\b\b\b\r1800/1800 [==============================] - 19s 11ms/step - loss: 6090.3320 - val_loss: 921520.0625\n",
            "Epoch 33/50\n",
            "1800/1800 [==============================] - ETA: 0s - loss: 6119.8398"
          ]
        },
        {
          "output_type": "stream",
          "name": "stderr",
          "text": [
            "WARNING:tensorflow:`evaluate()` received a value for `sample_weight`, but `weighted_metrics` were not provided.  Did you mean to pass metrics to `weighted_metrics` in `compile()`?  If this is intentional you can pass `weighted_metrics=[]` to `compile()` in order to silence this warning.\n"
          ]
        },
        {
          "output_type": "stream",
          "name": "stdout",
          "text": [
            "\b\b\b\b\b\b\b\b\b\b\b\b\b\b\b\b\b\b\b\b\b\b\b\b\b\b\b\b\b\b\b\b\b\b\b\b\b\b\b\b\b\b\b\b\b\b\b\b\b\b\b\b\b\b\b\b\b\b\b\b\b\b\b\b\b\b\b\b\b\b\r1800/1800 [==============================] - 19s 10ms/step - loss: 6119.8398 - val_loss: 1145087.1250\n",
            "Epoch 34/50\n",
            "1800/1800 [==============================] - ETA: 0s - loss: 5691.7119"
          ]
        },
        {
          "output_type": "stream",
          "name": "stderr",
          "text": [
            "WARNING:tensorflow:`evaluate()` received a value for `sample_weight`, but `weighted_metrics` were not provided.  Did you mean to pass metrics to `weighted_metrics` in `compile()`?  If this is intentional you can pass `weighted_metrics=[]` to `compile()` in order to silence this warning.\n"
          ]
        },
        {
          "output_type": "stream",
          "name": "stdout",
          "text": [
            "\b\b\b\b\b\b\b\b\b\b\b\b\b\b\b\b\b\b\b\b\b\b\b\b\b\b\b\b\b\b\b\b\b\b\b\b\b\b\b\b\b\b\b\b\b\b\b\b\b\b\b\b\b\b\b\b\b\b\b\b\b\b\b\b\b\b\b\b\b\b\r1800/1800 [==============================] - 20s 11ms/step - loss: 5691.7119 - val_loss: 969296.0625\n",
            "Epoch 35/50\n",
            "1797/1800 [============================>.] - ETA: 0s - loss: 7285.1484"
          ]
        },
        {
          "output_type": "stream",
          "name": "stderr",
          "text": [
            "WARNING:tensorflow:`evaluate()` received a value for `sample_weight`, but `weighted_metrics` were not provided.  Did you mean to pass metrics to `weighted_metrics` in `compile()`?  If this is intentional you can pass `weighted_metrics=[]` to `compile()` in order to silence this warning.\n"
          ]
        },
        {
          "output_type": "stream",
          "name": "stdout",
          "text": [
            "\b\b\b\b\b\b\b\b\b\b\b\b\b\b\b\b\b\b\b\b\b\b\b\b\b\b\b\b\b\b\b\b\b\b\b\b\b\b\b\b\b\b\b\b\b\b\b\b\b\b\b\b\b\b\b\b\b\b\b\b\b\b\b\b\b\b\b\b\b\b\r1800/1800 [==============================] - 19s 11ms/step - loss: 7279.6577 - val_loss: 842942.3125\n",
            "Epoch 36/50\n",
            "1795/1800 [============================>.] - ETA: 0s - loss: 5795.5737"
          ]
        },
        {
          "output_type": "stream",
          "name": "stderr",
          "text": [
            "WARNING:tensorflow:`evaluate()` received a value for `sample_weight`, but `weighted_metrics` were not provided.  Did you mean to pass metrics to `weighted_metrics` in `compile()`?  If this is intentional you can pass `weighted_metrics=[]` to `compile()` in order to silence this warning.\n"
          ]
        },
        {
          "output_type": "stream",
          "name": "stdout",
          "text": [
            "\b\b\b\b\b\b\b\b\b\b\b\b\b\b\b\b\b\b\b\b\b\b\b\b\b\b\b\b\b\b\b\b\b\b\b\b\b\b\b\b\b\b\b\b\b\b\b\b\b\b\b\b\b\b\b\b\b\b\b\b\b\b\b\b\b\b\b\b\b\b\r1800/1800 [==============================] - 19s 11ms/step - loss: 5791.0015 - val_loss: 756576.5000\n",
            "Epoch 37/50\n",
            "1796/1800 [============================>.] - ETA: 0s - loss: 5178.1836"
          ]
        },
        {
          "output_type": "stream",
          "name": "stderr",
          "text": [
            "WARNING:tensorflow:`evaluate()` received a value for `sample_weight`, but `weighted_metrics` were not provided.  Did you mean to pass metrics to `weighted_metrics` in `compile()`?  If this is intentional you can pass `weighted_metrics=[]` to `compile()` in order to silence this warning.\n"
          ]
        },
        {
          "output_type": "stream",
          "name": "stdout",
          "text": [
            "\b\b\b\b\b\b\b\b\b\b\b\b\b\b\b\b\b\b\b\b\b\b\b\b\b\b\b\b\b\b\b\b\b\b\b\b\b\b\b\b\b\b\b\b\b\b\b\b\b\b\b\b\b\b\b\b\b\b\b\b\b\b\b\b\b\b\b\b\b\b\r1800/1800 [==============================] - 19s 11ms/step - loss: 5176.8081 - val_loss: 753726.0000\n",
            "Epoch 38/50\n",
            "1797/1800 [============================>.] - ETA: 0s - loss: 4953.6260"
          ]
        },
        {
          "output_type": "stream",
          "name": "stderr",
          "text": [
            "WARNING:tensorflow:`evaluate()` received a value for `sample_weight`, but `weighted_metrics` were not provided.  Did you mean to pass metrics to `weighted_metrics` in `compile()`?  If this is intentional you can pass `weighted_metrics=[]` to `compile()` in order to silence this warning.\n"
          ]
        },
        {
          "output_type": "stream",
          "name": "stdout",
          "text": [
            "\b\b\b\b\b\b\b\b\b\b\b\b\b\b\b\b\b\b\b\b\b\b\b\b\b\b\b\b\b\b\b\b\b\b\b\b\b\b\b\b\b\b\b\b\b\b\b\b\b\b\b\b\b\b\b\b\b\b\b\b\b\b\b\b\b\b\b\b\b\b\r1800/1800 [==============================] - 20s 11ms/step - loss: 4950.7324 - val_loss: 975572.3750\n",
            "Epoch 39/50\n",
            "1798/1800 [============================>.] - ETA: 0s - loss: 5682.1997"
          ]
        },
        {
          "output_type": "stream",
          "name": "stderr",
          "text": [
            "WARNING:tensorflow:`evaluate()` received a value for `sample_weight`, but `weighted_metrics` were not provided.  Did you mean to pass metrics to `weighted_metrics` in `compile()`?  If this is intentional you can pass `weighted_metrics=[]` to `compile()` in order to silence this warning.\n"
          ]
        },
        {
          "output_type": "stream",
          "name": "stdout",
          "text": [
            "\b\b\b\b\b\b\b\b\b\b\b\b\b\b\b\b\b\b\b\b\b\b\b\b\b\b\b\b\b\b\b\b\b\b\b\b\b\b\b\b\b\b\b\b\b\b\b\b\b\b\b\b\b\b\b\b\b\b\b\b\b\b\b\b\b\b\b\b\b\b\r1800/1800 [==============================] - 19s 11ms/step - loss: 5689.3711 - val_loss: 803880.5000\n",
            "Epoch 40/50\n",
            "1800/1800 [==============================] - ETA: 0s - loss: 4868.6606"
          ]
        },
        {
          "output_type": "stream",
          "name": "stderr",
          "text": [
            "WARNING:tensorflow:`evaluate()` received a value for `sample_weight`, but `weighted_metrics` were not provided.  Did you mean to pass metrics to `weighted_metrics` in `compile()`?  If this is intentional you can pass `weighted_metrics=[]` to `compile()` in order to silence this warning.\n"
          ]
        },
        {
          "output_type": "stream",
          "name": "stdout",
          "text": [
            "\b\b\b\b\b\b\b\b\b\b\b\b\b\b\b\b\b\b\b\b\b\b\b\b\b\b\b\b\b\b\b\b\b\b\b\b\b\b\b\b\b\b\b\b\b\b\b\b\b\b\b\b\b\b\b\b\b\b\b\b\b\b\b\b\b\b\b\b\b\b\r1800/1800 [==============================] - 19s 11ms/step - loss: 4868.6606 - val_loss: 1136026.1250\n",
            "Epoch 41/50\n",
            "1797/1800 [============================>.] - ETA: 0s - loss: 4628.7036"
          ]
        },
        {
          "output_type": "stream",
          "name": "stderr",
          "text": [
            "WARNING:tensorflow:`evaluate()` received a value for `sample_weight`, but `weighted_metrics` were not provided.  Did you mean to pass metrics to `weighted_metrics` in `compile()`?  If this is intentional you can pass `weighted_metrics=[]` to `compile()` in order to silence this warning.\n"
          ]
        },
        {
          "output_type": "stream",
          "name": "stdout",
          "text": [
            "\b\b\b\b\b\b\b\b\b\b\b\b\b\b\b\b\b\b\b\b\b\b\b\b\b\b\b\b\b\b\b\b\b\b\b\b\b\b\b\b\b\b\b\b\b\b\b\b\b\b\b\b\b\b\b\b\b\b\b\b\b\b\b\b\b\b\b\b\b\b\r1800/1800 [==============================] - 19s 11ms/step - loss: 4632.4351 - val_loss: 1199487.0000\n",
            "Epoch 42/50\n",
            "1799/1800 [============================>.] - ETA: 0s - loss: 4807.9966"
          ]
        },
        {
          "output_type": "stream",
          "name": "stderr",
          "text": [
            "WARNING:tensorflow:`evaluate()` received a value for `sample_weight`, but `weighted_metrics` were not provided.  Did you mean to pass metrics to `weighted_metrics` in `compile()`?  If this is intentional you can pass `weighted_metrics=[]` to `compile()` in order to silence this warning.\n"
          ]
        },
        {
          "output_type": "stream",
          "name": "stdout",
          "text": [
            "\b\b\b\b\b\b\b\b\b\b\b\b\b\b\b\b\b\b\b\b\b\b\b\b\b\b\b\b\b\b\b\b\b\b\b\b\b\b\b\b\b\b\b\b\b\b\b\b\b\b\b\b\b\b\b\b\b\b\b\b\b\b\b\b\b\b\b\b\b\b\r1800/1800 [==============================] - 19s 11ms/step - loss: 4807.0298 - val_loss: 1210909.8750\n",
            "Epoch 43/50\n",
            "1800/1800 [==============================] - ETA: 0s - loss: 4692.9336"
          ]
        },
        {
          "output_type": "stream",
          "name": "stderr",
          "text": [
            "WARNING:tensorflow:`evaluate()` received a value for `sample_weight`, but `weighted_metrics` were not provided.  Did you mean to pass metrics to `weighted_metrics` in `compile()`?  If this is intentional you can pass `weighted_metrics=[]` to `compile()` in order to silence this warning.\n"
          ]
        },
        {
          "output_type": "stream",
          "name": "stdout",
          "text": [
            "\b\b\b\b\b\b\b\b\b\b\b\b\b\b\b\b\b\b\b\b\b\b\b\b\b\b\b\b\b\b\b\b\b\b\b\b\b\b\b\b\b\b\b\b\b\b\b\b\b\b\b\b\b\b\b\b\b\b\b\b\b\b\b\b\b\b\b\b\b\b\r1800/1800 [==============================] - 19s 10ms/step - loss: 4692.9336 - val_loss: 1234275.5000\n",
            "Epoch 44/50\n",
            "1799/1800 [============================>.] - ETA: 0s - loss: 4575.6421"
          ]
        },
        {
          "output_type": "stream",
          "name": "stderr",
          "text": [
            "WARNING:tensorflow:`evaluate()` received a value for `sample_weight`, but `weighted_metrics` were not provided.  Did you mean to pass metrics to `weighted_metrics` in `compile()`?  If this is intentional you can pass `weighted_metrics=[]` to `compile()` in order to silence this warning.\n"
          ]
        },
        {
          "output_type": "stream",
          "name": "stdout",
          "text": [
            "\b\b\b\b\b\b\b\b\b\b\b\b\b\b\b\b\b\b\b\b\b\b\b\b\b\b\b\b\b\b\b\b\b\b\b\b\b\b\b\b\b\b\b\b\b\b\b\b\b\b\b\b\b\b\b\b\b\b\b\b\b\b\b\b\b\b\b\b\b\b\r1800/1800 [==============================] - 20s 11ms/step - loss: 4575.0859 - val_loss: 1716896.0000\n",
            "Epoch 45/50\n",
            "1799/1800 [============================>.] - ETA: 0s - loss: 4232.8145"
          ]
        },
        {
          "output_type": "stream",
          "name": "stderr",
          "text": [
            "WARNING:tensorflow:`evaluate()` received a value for `sample_weight`, but `weighted_metrics` were not provided.  Did you mean to pass metrics to `weighted_metrics` in `compile()`?  If this is intentional you can pass `weighted_metrics=[]` to `compile()` in order to silence this warning.\n"
          ]
        },
        {
          "output_type": "stream",
          "name": "stdout",
          "text": [
            "\b\b\b\b\b\b\b\b\b\b\b\b\b\b\b\b\b\b\b\b\b\b\b\b\b\b\b\b\b\b\b\b\b\b\b\b\b\b\b\b\b\b\b\b\b\b\b\b\b\b\b\b\b\b\b\b\b\b\b\b\b\b\b\b\b\b\b\b\b\b\r1800/1800 [==============================] - 19s 10ms/step - loss: 4235.5098 - val_loss: 1179070.7500\n",
            "Epoch 46/50\n",
            "1797/1800 [============================>.] - ETA: 0s - loss: 4651.5508"
          ]
        },
        {
          "output_type": "stream",
          "name": "stderr",
          "text": [
            "WARNING:tensorflow:`evaluate()` received a value for `sample_weight`, but `weighted_metrics` were not provided.  Did you mean to pass metrics to `weighted_metrics` in `compile()`?  If this is intentional you can pass `weighted_metrics=[]` to `compile()` in order to silence this warning.\n"
          ]
        },
        {
          "output_type": "stream",
          "name": "stdout",
          "text": [
            "\b\b\b\b\b\b\b\b\b\b\b\b\b\b\b\b\b\b\b\b\b\b\b\b\b\b\b\b\b\b\b\b\b\b\b\b\b\b\b\b\b\b\b\b\b\b\b\b\b\b\b\b\b\b\b\b\b\b\b\b\b\b\b\b\b\b\b\b\b\b\r1800/1800 [==============================] - 19s 11ms/step - loss: 4650.9302 - val_loss: 864416.8750\n",
            "Epoch 47/50\n",
            "1798/1800 [============================>.] - ETA: 0s - loss: 4116.1309"
          ]
        },
        {
          "output_type": "stream",
          "name": "stderr",
          "text": [
            "WARNING:tensorflow:`evaluate()` received a value for `sample_weight`, but `weighted_metrics` were not provided.  Did you mean to pass metrics to `weighted_metrics` in `compile()`?  If this is intentional you can pass `weighted_metrics=[]` to `compile()` in order to silence this warning.\n"
          ]
        },
        {
          "output_type": "stream",
          "name": "stdout",
          "text": [
            "\b\b\b\b\b\b\b\b\b\b\b\b\b\b\b\b\b\b\b\b\b\b\b\b\b\b\b\b\b\b\b\b\b\b\b\b\b\b\b\b\b\b\b\b\b\b\b\b\b\b\b\b\b\b\b\b\b\b\b\b\b\b\b\b\b\b\b\b\b\b\r1800/1800 [==============================] - 19s 11ms/step - loss: 4114.5483 - val_loss: 1613452.0000\n",
            "Epoch 48/50\n",
            "1800/1800 [==============================] - ETA: 0s - loss: 4052.3906"
          ]
        },
        {
          "output_type": "stream",
          "name": "stderr",
          "text": [
            "WARNING:tensorflow:`evaluate()` received a value for `sample_weight`, but `weighted_metrics` were not provided.  Did you mean to pass metrics to `weighted_metrics` in `compile()`?  If this is intentional you can pass `weighted_metrics=[]` to `compile()` in order to silence this warning.\n"
          ]
        },
        {
          "output_type": "stream",
          "name": "stdout",
          "text": [
            "\b\b\b\b\b\b\b\b\b\b\b\b\b\b\b\b\b\b\b\b\b\b\b\b\b\b\b\b\b\b\b\b\b\b\b\b\b\b\b\b\b\b\b\b\b\b\b\b\b\b\b\b\b\b\b\b\b\b\b\b\b\b\b\b\b\b\b\b\b\b\r1800/1800 [==============================] - 19s 11ms/step - loss: 4052.3906 - val_loss: 1801289.0000\n",
            "Epoch 49/50\n",
            "1797/1800 [============================>.] - ETA: 0s - loss: 4273.3486"
          ]
        },
        {
          "output_type": "stream",
          "name": "stderr",
          "text": [
            "WARNING:tensorflow:`evaluate()` received a value for `sample_weight`, but `weighted_metrics` were not provided.  Did you mean to pass metrics to `weighted_metrics` in `compile()`?  If this is intentional you can pass `weighted_metrics=[]` to `compile()` in order to silence this warning.\n"
          ]
        },
        {
          "output_type": "stream",
          "name": "stdout",
          "text": [
            "\b\b\b\b\b\b\b\b\b\b\b\b\b\b\b\b\b\b\b\b\b\b\b\b\b\b\b\b\b\b\b\b\b\b\b\b\b\b\b\b\b\b\b\b\b\b\b\b\b\b\b\b\b\b\b\b\b\b\b\b\b\b\b\b\b\b\b\b\b\b\r1800/1800 [==============================] - 19s 11ms/step - loss: 4274.6157 - val_loss: 1797238.6250\n",
            "Epoch 50/50\n",
            "1795/1800 [============================>.] - ETA: 0s - loss: 3875.8977"
          ]
        },
        {
          "output_type": "stream",
          "name": "stderr",
          "text": [
            "WARNING:tensorflow:`evaluate()` received a value for `sample_weight`, but `weighted_metrics` were not provided.  Did you mean to pass metrics to `weighted_metrics` in `compile()`?  If this is intentional you can pass `weighted_metrics=[]` to `compile()` in order to silence this warning.\n"
          ]
        },
        {
          "output_type": "stream",
          "name": "stdout",
          "text": [
            "\b\b\b\b\b\b\b\b\b\b\b\b\b\b\b\b\b\b\b\b\b\b\b\b\b\b\b\b\b\b\b\b\b\b\b\b\b\b\b\b\b\b\b\b\b\b\b\b\b\b\b\b\b\b\b\b\b\b\b\b\b\b\b\b\b\b\b\b\b\b\r1800/1800 [==============================] - 20s 11ms/step - loss: 3878.2046 - val_loss: 2091080.2500\n"
          ]
        },
        {
          "output_type": "execute_result",
          "data": {
            "text/plain": [
              "<keras.src.callbacks.History at 0x783db13530d0>"
            ]
          },
          "metadata": {},
          "execution_count": 58
        }
      ]
    },
    {
      "cell_type": "markdown",
      "source": [
        "## Causal Effect Estimation (With Spatial Interference)\n",
        "The same code can be used for data without spatial interference"
      ],
      "metadata": {
        "id": "nN3Gg6y7_HpR"
      }
    },
    {
      "cell_type": "code",
      "source": [
        "import pandas as pd\n",
        "import numpy as np\n",
        "\n",
        "\n",
        "y0_pred=model1.predict(x_untreated)\n",
        "y1_pred=model1.predict(x_treated)"
      ],
      "metadata": {
        "colab": {
          "base_uri": "https://localhost:8080/"
        },
        "id": "Y13WHxF01ZBO",
        "outputId": "0639e857-cd6e-4f40-d5a4-8eb33ee3412a"
      },
      "execution_count": null,
      "outputs": [
        {
          "output_type": "stream",
          "name": "stdout",
          "text": [
            "4499/4499 [==============================] - 19s 4ms/step\n",
            "4499/4499 [==============================] - 17s 4ms/step\n"
          ]
        }
      ]
    },
    {
      "cell_type": "code",
      "source": [
        "y_pred = model1.predict(x_test) #(With Spillover)"
      ],
      "metadata": {
        "colab": {
          "base_uri": "https://localhost:8080/"
        },
        "id": "1-BoFgXPVqJv",
        "outputId": "a5ee3ac9-112e-4425-8504-156b9e6ebf80"
      },
      "execution_count": null,
      "outputs": [
        {
          "output_type": "stream",
          "name": "stdout",
          "text": [
            "4499/4499 [==============================] - 17s 4ms/step\n"
          ]
        }
      ]
    },
    {
      "cell_type": "code",
      "source": [
        "np.save('/content/y0_pred_with_spillover.npy',y0_pred)\n",
        "np.save('/content/y1_pred_with_spillover.npy',y1_pred)"
      ],
      "metadata": {
        "id": "ReFQ28JQnFMb"
      },
      "execution_count": null,
      "outputs": []
    },
    {
      "cell_type": "code",
      "source": [
        "y0_pred = np.load('/content/y0_pred_with_spillover.npy')\n",
        "y1_pred = np.load('/content/y1_pred_with_spillover.npy')"
      ],
      "metadata": {
        "id": "s733j07Ndrnl"
      },
      "execution_count": null,
      "outputs": []
    },
    {
      "cell_type": "code",
      "source": [
        "#RMSE Model\n",
        "from sklearn.metrics import mean_squared_error\n",
        "from math import sqrt\n",
        "\n",
        "y_pred_r = scaler_l.inverse_transform(y_pred)\n",
        "y_test_r = scaler_l.inverse_transform(y_test)\n",
        "\n",
        "rmse = sqrt(mean_squared_error(y_test_r, y_pred_r))\n",
        "print('Test RMSE: %.3f' % rmse)"
      ],
      "metadata": {
        "id": "sVTmnktOcB2K"
      },
      "execution_count": null,
      "outputs": []
    },
    {
      "cell_type": "code",
      "source": [
        "#RMSE Treated\n",
        "from sklearn.metrics import mean_squared_error\n",
        "from math import sqrt\n",
        "\n",
        "y1_pred_r = scaler_l.inverse_transform(y1_pred)\n",
        "\n",
        "rmse = sqrt(mean_squared_error(cf[:,:,1], y1_pred_r))\n",
        "print('Treated RMSE: %.3f' % rmse)"
      ],
      "metadata": {
        "id": "xrz43D9WkXsb"
      },
      "execution_count": null,
      "outputs": []
    },
    {
      "cell_type": "code",
      "source": [
        "np.save('/content/y0_pred_recon_with_spillover.npy',y0_pred_r)\n",
        "np.save('/content/y1_pred_recon_with_spillover.npy',y1_pred_r)"
      ],
      "metadata": {
        "id": "OAXdx9oxnizU"
      },
      "execution_count": null,
      "outputs": []
    },
    {
      "cell_type": "code",
      "source": [
        "cate_true=(cf[:,:,1]-cf[:,:,0]).squeeze() #(With Spillover)\n",
        "cate_true.shape"
      ],
      "metadata": {
        "id": "LbKJkBVMmkY5"
      },
      "execution_count": null,
      "outputs": []
    },
    {
      "cell_type": "code",
      "source": [
        "ate_true=tf.reduce_mean(cate_true)\n",
        "ate_true"
      ],
      "metadata": {
        "id": "h-7mwtDRnMfD"
      },
      "execution_count": null,
      "outputs": []
    },
    {
      "cell_type": "code",
      "source": [
        "#for new dataset (With Spillover)\n",
        "cate_pred=(y1_pred_r-y0_pred_r).squeeze()\n",
        "cate_true=(cf[:,:,1]-cf[:,:,0]).squeeze()\n",
        "\n",
        "ate_pred=tf.reduce_mean(cate_pred)\n",
        "ate_true=tf.reduce_mean(cate_true)\n",
        "\n",
        "print(\"True ATE:\",ate_true.numpy())\n",
        "print(\"Estimated ATE:\",ate_pred.numpy())"
      ],
      "metadata": {
        "id": "oNZGKSj8mcDI"
      },
      "execution_count": null,
      "outputs": []
    },
    {
      "cell_type": "code",
      "source": [
        "#for new dataset (With Spillover)\n",
        "#PEHE\n",
        "pehe=tf.reduce_mean( tf.square( ( cate_true - cate_pred) ) )\n",
        "sqrt_pehe=tf.sqrt(pehe).numpy()\n",
        "print(\"\\nSQRT PEHE:\",sqrt_pehe)"
      ],
      "metadata": {
        "id": "asN29FhUne7d"
      },
      "execution_count": null,
      "outputs": []
    }
  ]
}