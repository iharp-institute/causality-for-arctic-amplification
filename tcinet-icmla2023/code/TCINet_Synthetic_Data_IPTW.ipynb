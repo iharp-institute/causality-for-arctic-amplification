{
  "nbformat": 4,
  "nbformat_minor": 0,
  "metadata": {
    "colab": {
      "provenance": [],
      "toc_visible": true
    },
    "kernelspec": {
      "name": "python3",
      "display_name": "Python 3"
    },
    "gpuClass": "standard"
  },
  "cells": [
    {
      "cell_type": "markdown",
      "metadata": {
        "id": "QPXGPvaXUGCp"
      },
      "source": [
        "##TCINet on Nonlinear Synthetic Data\n",
        "Author: Sahara Ali"
      ]
    },
    {
      "cell_type": "code",
      "metadata": {
        "id": "g3fTrL1TI6u0"
      },
      "source": [
        "from numpy.random import seed\n",
        "seed(1)"
      ],
      "execution_count": null,
      "outputs": []
    },
    {
      "cell_type": "markdown",
      "metadata": {
        "id": "9qttgxO9sYLO"
      },
      "source": [
        "###Readme:\n",
        "\n",
        "- Covariate: 2 ->\n",
        "       'S1 (t)', 'S2 (t)'\n",
        "- Treatment ->\n",
        "       'S3 (t)'\n",
        "- Output Predictand:\n",
        "       'S4 (t+1)'\n",
        "- No. of records: 100000\n",
        "- Look-up window: 1 timestep\n",
        "- Causal Graph\n",
        "\n",
        "![image.png](data:image/png;base64,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)"
      ]
    },
    {
      "cell_type": "markdown",
      "metadata": {
        "id": "jdRdTOsz9raL"
      },
      "source": [
        "## Initial Setup"
      ]
    },
    {
      "cell_type": "code",
      "metadata": {
        "id": "U0pzwDXw9p0l"
      },
      "source": [
        "import os\n",
        "import math\n",
        "import glob\n",
        "import numpy as np\n",
        "import pandas as pd\n",
        "import tensorflow as tf\n",
        "import matplotlib.pyplot as plt\n",
        "from keras.models import Sequential\n",
        "from tensorflow.keras.optimizers import Adam\n",
        "from tensorflow.compat.v1.keras import backend as K\n",
        "from keras.layers import Dense, Dropout\n",
        "from keras.layers import LSTM,TimeDistributed\n",
        "from sklearn.preprocessing import MinMaxScaler, StandardScaler\n",
        "from sklearn.metrics import mean_squared_error\n",
        "from sklearn.model_selection import train_test_split\n",
        "from keras.callbacks import EarlyStopping, ModelCheckpoint"
      ],
      "execution_count": null,
      "outputs": []
    },
    {
      "cell_type": "markdown",
      "metadata": {
        "id": "L8VX5KkQ_FX6"
      },
      "source": [
        "### Loading Combined Data\n",
        "\n",
        "\n",
        "\n"
      ]
    },
    {
      "cell_type": "code",
      "metadata": {
        "id": "lMlcMP96tmrt"
      },
      "source": [
        "df = pd.read_csv('/.../synthetic_data_nonlinear_combined.csv')\n",
        "df.info()\n",
        "data = np.array(df)"
      ],
      "execution_count": null,
      "outputs": []
    },
    {
      "cell_type": "code",
      "metadata": {
        "colab": {
          "base_uri": "https://localhost:8080/"
        },
        "id": "XeRO8gpi4-SO",
        "outputId": "4a592a50-ca52-4615-d4e9-7722c94a2642"
      },
      "source": [
        "target = data[:,3]\n",
        "cf = data[:,-2:] #factual and counterfactual data\n",
        "data = data[:,:4]\n",
        "print(data.shape)\n",
        "print(cf.shape)\n",
        "print(target.shape)"
      ],
      "execution_count": null,
      "outputs": [
        {
          "output_type": "stream",
          "name": "stdout",
          "text": [
            "(100000, 4)\n",
            "(100000, 2)\n",
            "(100000,)\n"
          ]
        }
      ]
    },
    {
      "cell_type": "code",
      "source": [
        "#Adding a lag to targets\n",
        "lag = 1\n",
        "\n",
        "data = data[:-lag,:]\n",
        "target = target[lag:]\n",
        "\n",
        "print(data.shape)\n",
        "print(target.shape)"
      ],
      "metadata": {
        "colab": {
          "base_uri": "https://localhost:8080/"
        },
        "id": "ZZeU3gJd1S95",
        "outputId": "dc1fc268-c565-41a0-bc9c-7055cb2e150a"
      },
      "execution_count": null,
      "outputs": [
        {
          "output_type": "stream",
          "name": "stdout",
          "text": [
            "(99999, 4)\n",
            "(99999,)\n"
          ]
        }
      ]
    },
    {
      "cell_type": "code",
      "source": [
        "## Shifting treatment to last column\n",
        "s3 = data[:,-2].copy()\n",
        "s3 = s3.reshape(-1,1)\n",
        "print(s3.shape)\n",
        "print(data.shape)\n",
        "data = np.delete(data, -2, 1)\n",
        "print(data.shape)\n",
        "data = np.concatenate([data, s3], 1)\n",
        "print(data.shape)"
      ],
      "metadata": {
        "colab": {
          "base_uri": "https://localhost:8080/"
        },
        "id": "9s4AjPrN0BnY",
        "outputId": "c582d5c0-bb1f-4b0c-9acf-fd99e5e113b1"
      },
      "execution_count": null,
      "outputs": [
        {
          "output_type": "stream",
          "name": "stdout",
          "text": [
            "(99999, 1)\n",
            "(99999, 4)\n",
            "(99999, 3)\n",
            "(99999, 4)\n"
          ]
        }
      ]
    },
    {
      "cell_type": "markdown",
      "metadata": {
        "id": "lWyDrrpAQ74Q"
      },
      "source": [
        "## Train Validation Split"
      ]
    },
    {
      "cell_type": "markdown",
      "metadata": {
        "id": "rnbZ9jp0zv4e"
      },
      "source": [
        "LSTM network expects the input data to be provided with a specific array structure in the form of: [samples, time steps, features]. We load the csv file and only retain the feature and target columns. The features and target are stored in separate np arrays."
      ]
    },
    {
      "cell_type": "code",
      "metadata": {
        "colab": {
          "base_uri": "https://localhost:8080/"
        },
        "id": "BUVLJ8d7yWlc",
        "outputId": "50352f67-a9ba-4fa7-e171-e2baf4260e2b"
      },
      "source": [
        "# Sequential split train:val data in 80:20 sequentially\n",
        "\n",
        "LEN_DATA = len(data) #total number of pixels\n",
        "\n",
        "NUM_TRAIN = int(LEN_DATA * 0.7)\n",
        "NUM_VALID = LEN_DATA - NUM_TRAIN\n",
        "\n",
        "print('LEN_DATA:',LEN_DATA)\n",
        "print('NUM_TRAIN:',NUM_TRAIN)\n",
        "print('NUM_VALID:',NUM_VALID)\n",
        "\n",
        "x_train = data[0:NUM_TRAIN]\n",
        "x_test = data[NUM_TRAIN:]\n",
        "\n",
        "#split features and labels\n",
        "y_train=target[:NUM_TRAIN]\n",
        "y_test=target[NUM_TRAIN:]"
      ],
      "execution_count": null,
      "outputs": [
        {
          "output_type": "stream",
          "name": "stdout",
          "text": [
            "LEN_DATA: 99999\n",
            "NUM_TRAIN: 69999\n",
            "NUM_VALID: 30000\n"
          ]
        }
      ]
    },
    {
      "cell_type": "markdown",
      "source": [
        "## Creating Treated and Untreated versions of Test Data"
      ],
      "metadata": {
        "id": "7O-kPHz63-PQ"
      }
    },
    {
      "cell_type": "code",
      "source": [
        "treatment = x_test.copy()\n",
        "treatment = np.delete(treatment, -1, 1)\n",
        "print(treatment.shape)\n",
        "\n",
        "ones=np.expand_dims(np.ones(x_test.shape[0]),1)\n",
        "zeros=np.expand_dims(np.zeros(x_test.shape[0]),1)\n",
        "\n",
        "x_untreated = np.concatenate([treatment, zeros], 1)\n",
        "x_treated = np.concatenate([treatment, ones], 1)"
      ],
      "metadata": {
        "colab": {
          "base_uri": "https://localhost:8080/"
        },
        "id": "M_kRDYOO4Dot",
        "outputId": "6ca4d374-7bfb-45a1-99ff-aad410a90b0e"
      },
      "execution_count": null,
      "outputs": [
        {
          "output_type": "stream",
          "name": "stdout",
          "text": [
            "(30000, 3)\n"
          ]
        }
      ]
    },
    {
      "cell_type": "code",
      "metadata": {
        "colab": {
          "base_uri": "https://localhost:8080/"
        },
        "id": "fPxr5VW3ynVk",
        "outputId": "3b3862f2-3bea-495b-af8a-e92c5e5afa5c"
      },
      "source": [
        "print('x_train.shape:',x_train.shape)\n",
        "print('y_train.shape:',y_train.shape)\n",
        "print('x_test.shape:',x_test.shape)\n",
        "print('y_test.shape:',y_test.shape)\n",
        "print('x_treated.shape:',x_treated.shape)\n",
        "print('x_untreated.shape:',x_untreated.shape)"
      ],
      "execution_count": null,
      "outputs": [
        {
          "output_type": "stream",
          "name": "stdout",
          "text": [
            "x_train.shape: (69999, 4)\n",
            "y_train.shape: (69999,)\n",
            "x_test.shape: (30000, 4)\n",
            "y_test.shape: (30000,)\n",
            "x_treated.shape: (30000, 4)\n",
            "x_untreated.shape: (30000, 4)\n"
          ]
        }
      ]
    },
    {
      "cell_type": "markdown",
      "metadata": {
        "id": "8V9PlIs8OUUM"
      },
      "source": [
        "## Reshaping Input and Target Features"
      ]
    },
    {
      "cell_type": "code",
      "metadata": {
        "id": "v8qmWF4VHxrR"
      },
      "source": [
        "# convert an array of values into a dataset matrix\n",
        "def reshape_features(dataset, timesteps=1):\n",
        "    print(dataset.shape)\n",
        "    X = dataset.reshape((int(dataset.shape[0]/timesteps)), timesteps, dataset.shape[1])\n",
        "    return X"
      ],
      "execution_count": null,
      "outputs": []
    },
    {
      "cell_type": "markdown",
      "metadata": {
        "id": "-TOp3WLtJ6xJ"
      },
      "source": [
        "## Normalization\n"
      ]
    },
    {
      "cell_type": "code",
      "metadata": {
        "id": "X9nc-dTGJ8qr"
      },
      "source": [
        "# normalize the features\n",
        "features = 4\n",
        "scaler_f = StandardScaler()\n",
        "x_train = scaler_f.fit_transform(x_train.reshape(-1,features)) #reshaping to 2d for standard scaling\n",
        "x_test = scaler_f.transform(x_test.reshape(-1,features)) #reshaping to 2d for standard scaling\n",
        "x_treated = scaler_f.transform(x_treated.reshape(-1,features)) #reshaping to 2d for standard scaling\n",
        "x_untreated = scaler_f.transform(x_untreated.reshape(-1,features)) #reshaping to 2d for standard scaling\n",
        "\n",
        "scaler_l = StandardScaler()\n",
        "y_train = scaler_l.fit_transform(y_train.reshape(-1,1)) #reshaping to 2d for standard scaling\n",
        "y_test = scaler_l.transform(y_test.reshape(-1,1)) #reshaping to 2d for standard scaling\n"
      ],
      "execution_count": null,
      "outputs": []
    },
    {
      "cell_type": "code",
      "metadata": {
        "colab": {
          "base_uri": "https://localhost:8080/"
        },
        "id": "iwL_XadANsWH",
        "outputId": "f35cb2cd-c334-450a-d072-0c02cd594993"
      },
      "source": [
        "#Reshaping data to 3D for modeling\n",
        "timesteps = 1\n",
        "x_train = reshape_features(x_train, timesteps) # reshaping to 3d for model\n",
        "x_test = reshape_features(x_test, timesteps) # reshaping to 3d for model\n",
        "\n",
        "x_treated = reshape_features(x_treated, timesteps) # reshaping to 3d for model\n",
        "x_untreated = reshape_features(x_untreated, timesteps) # reshaping to 3d for model\n",
        "#test_data = reshape_features(test_data, timesteps) # reshaping to 3d for model"
      ],
      "execution_count": null,
      "outputs": [
        {
          "output_type": "stream",
          "name": "stdout",
          "text": [
            "(69999, 4)\n",
            "(30000, 4)\n",
            "(30000, 4)\n",
            "(30000, 4)\n"
          ]
        }
      ]
    },
    {
      "cell_type": "code",
      "metadata": {
        "colab": {
          "base_uri": "https://localhost:8080/"
        },
        "id": "lDxL_gE5Onx9",
        "outputId": "1427af9a-41a2-405d-ca26-5d4359f5cc25"
      },
      "source": [
        "print('x_train.shape:',x_train.shape)\n",
        "print('y_train.shape:',y_train.shape)\n",
        "print('x_test.shape:',x_test.shape)\n",
        "print('y_test.shape:',y_test.shape)\n",
        "print('x_treated.shape:',x_treated.shape)\n",
        "print('x_untreated.shape:',x_untreated.shape)"
      ],
      "execution_count": null,
      "outputs": [
        {
          "output_type": "stream",
          "name": "stdout",
          "text": [
            "x_train.shape: (69999, 1, 4)\n",
            "y_train.shape: (69999, 1)\n",
            "x_test.shape: (30000, 1, 4)\n",
            "y_test.shape: (30000, 1)\n",
            "x_treated.shape: (30000, 1, 4)\n",
            "x_untreated.shape: (30000, 1, 4)\n"
          ]
        }
      ]
    },
    {
      "cell_type": "markdown",
      "source": [
        "### IPTW Calculation"
      ],
      "metadata": {
        "id": "Dwu-jlmj5kgm"
      }
    },
    {
      "cell_type": "markdown",
      "source": [
        "Inverse Propensity Score Weighted Loss\n",
        "\n",
        "1. We will first calculate the propensity score of Treatment given covariates using Logistic Regression\n",
        "2. Then, we will create iptw weights for each Potential outcome Y to weigh their loss with corresponding IPTW weights"
      ],
      "metadata": {
        "id": "aOxMCtSQcd6E"
      }
    },
    {
      "cell_type": "code",
      "source": [
        "import pandas as pd\n",
        "import numpy as np\n",
        "import matplotlib.pyplot as plt\n",
        "from sklearn.linear_model import LogisticRegression\n",
        "\n",
        "#Propensity Score Calculation i.e Probability of Treatment given covariates = P(T|X)\n",
        "tr = x_train.reshape(-1,features)[:,-1]\n",
        "cov = x_train.reshape(-1,features)[:,:-1]\n",
        "y = np.zeros_like(tr)\n",
        "for i in range(len(tr)):\n",
        "  if tr[i] > tr.mean():\n",
        "    y[i] = 1\n",
        "print(tr.shape)\n",
        "print(cov.shape)\n",
        "print(y.shape)"
      ],
      "metadata": {
        "id": "NM59Awpw0jSP",
        "colab": {
          "base_uri": "https://localhost:8080/"
        },
        "outputId": "0640a43f-09cd-4b94-c78d-f4ecb06bf39e"
      },
      "execution_count": null,
      "outputs": [
        {
          "output_type": "stream",
          "name": "stdout",
          "text": [
            "(69999,)\n",
            "(69999, 3)\n",
            "(69999,)\n"
          ]
        }
      ]
    },
    {
      "cell_type": "code",
      "source": [
        "model = LogisticRegression().fit(cov, y)\n",
        "prop_score = model.predict_proba(cov) #probabilities of belonging to a class"
      ],
      "metadata": {
        "id": "hctVbFgZ0sHb"
      },
      "execution_count": null,
      "outputs": []
    },
    {
      "cell_type": "code",
      "source": [
        "iptw = 1 / prop_score\n",
        "print(prop_score.shape)\n",
        "print(iptw.shape)\n",
        "print(iptw[0,1])\n",
        "\n",
        "#prop_score has two columns. prop_score[:,1] has probability of treatment being 1, i.e treat > treat.mean().\n",
        "#Likewise, prop_score[:,0] has probability of treatment being 0, i.e treat < treat.mean()\n",
        "#We will use these probabilities to calculate IPTW"
      ],
      "metadata": {
        "colab": {
          "base_uri": "https://localhost:8080/"
        },
        "id": "8_Ckjl8u3wUb",
        "outputId": "bd8ea59d-3e61-4994-9898-087361acb8bd"
      },
      "execution_count": null,
      "outputs": [
        {
          "output_type": "stream",
          "name": "stdout",
          "text": [
            "(69999, 2)\n",
            "(69999, 2)\n",
            "2.022219958288061\n"
          ]
        }
      ]
    },
    {
      "cell_type": "code",
      "source": [
        "# define loss weights using IPTW\n",
        "iptw_weights = np.ones(len(y_train))\n",
        "for i in range(len(y_train)):\n",
        "  if tr[i] > tr.mean():\n",
        "    iptw_weights[i] = iptw[i,1]\n",
        "  else:\n",
        "    iptw_weights[i] = iptw[i,0]"
      ],
      "metadata": {
        "id": "Os6D80PS3eyo"
      },
      "execution_count": null,
      "outputs": []
    },
    {
      "cell_type": "code",
      "source": [
        "# We will use the MSE loss function as base loss\n",
        "loss_fn = tf.keras.losses.MeanSquaredError() #specify the loss"
      ],
      "metadata": {
        "id": "YZWkr66c5nUm"
      },
      "execution_count": null,
      "outputs": []
    },
    {
      "cell_type": "markdown",
      "metadata": {
        "id": "HRaNlUDXr7Qt"
      },
      "source": [
        "## Building Model"
      ]
    },
    {
      "cell_type": "code",
      "source": [
        "import tensorflow as tf\n",
        "import numpy as np\n",
        "\n",
        "from tensorflow.keras.layers import Input\n",
        "from tensorflow.keras.layers import Dense\n",
        "from tensorflow.keras.layers import Concatenate\n",
        "from tensorflow.keras import regularizers\n",
        "from tensorflow.keras import Model\n",
        "from tensorflow.keras.losses import binary_crossentropy\n",
        "from tensorflow.keras.metrics import binary_accuracy\n",
        "from tensorflow.keras.losses import Loss\n",
        "#from attention import Attention\n",
        "\n",
        "def model(timestep, features, reg_l2):\n",
        "\n",
        "    x = Input(shape=(timestep,features), name='input')\n",
        "\n",
        "    # representation\n",
        "    phi = LSTM(64, return_sequences=True,name='phi_1')(x)\n",
        "    phi = Dropout(0.2)(phi)\n",
        "    phi = LSTM(32, return_sequences=True,name='phi_2')(phi)\n",
        "    #phi = Attention(32)(phi)\n",
        "    phi = LSTM(32, return_sequences=False,name='phi_3')(phi)\n",
        "    phi = Dense(units=32, activation='elu', kernel_initializer='RandomNormal',name='phi_4')(phi)\n",
        "    phi = Dropout(0.2)(phi)\n",
        "\n",
        "    y0_hidden = Dense(units=16, activation='elu', kernel_regularizer=regularizers.l2(reg_l2),name='y0_hidden_1')(phi)\n",
        "    y0_hidden = Dense(units=8, activation='elu', kernel_regularizer=regularizers.l2(reg_l2),name='y0_hidden_2')(y0_hidden)\n",
        "    y0_predictions = Dense(units=1, activation=None, kernel_regularizer=regularizers.l2(reg_l2), name='y0_predictions')(y0_hidden)\n",
        "    model = Model(inputs=x, outputs=y0_predictions)\n",
        "\n",
        "    return model"
      ],
      "metadata": {
        "id": "ezYdtpz9Levl"
      },
      "execution_count": null,
      "outputs": []
    },
    {
      "cell_type": "code",
      "source": [
        "model=model(1,4, .01)\n",
        "print(model.summary())"
      ],
      "metadata": {
        "id": "nYr9MdZ52YMK"
      },
      "execution_count": null,
      "outputs": []
    },
    {
      "cell_type": "markdown",
      "metadata": {
        "id": "qrWXbk9DsTJ1"
      },
      "source": [
        "## Compiling the Network and Fitting Model"
      ]
    },
    {
      "cell_type": "code",
      "source": [
        "from tensorflow.keras.optimizers import SGD\n",
        "\n",
        "val_split=0.2\n",
        "batch_size=64\n",
        "verbose=1\n",
        "i = 0\n",
        "tf.random.set_seed(i)\n",
        "np.random.seed(i)\n",
        "\n",
        "#optimzier hyperparameters\n",
        "sgd_lr = 1e-5\n",
        "momentum = 0.9\n",
        "\n",
        "#Compiling the network\n",
        "model.compile(loss=loss_fn, optimizer='adam',sample_weight_mode = 'temporal')\n",
        "checkpoint_path='./testmodel.h5'\n",
        "keras_callbacks   = [\n",
        "      EarlyStopping(monitor='val_loss', patience=60, mode='min', min_delta=0.001),\n",
        "      ModelCheckpoint(checkpoint_path, monitor='val_loss', save_best_only=True, mode='min')\n",
        "]\n",
        "\n",
        "model.fit(x=x_train,y=y_train,\n",
        "                validation_split=0.2,\n",
        "                epochs=200,\n",
        "                batch_size=batch_size,\n",
        "                shuffle=True,\n",
        "                sample_weight=iptw_weights,\n",
        "                callbacks=keras_callbacks,\n",
        "                verbose=verbose)"
      ],
      "metadata": {
        "id": "k0wuSyCn8ozd"
      },
      "execution_count": null,
      "outputs": []
    },
    {
      "cell_type": "markdown",
      "source": [
        "## Causal Effect Estimation"
      ],
      "metadata": {
        "id": "nN3Gg6y7_HpR"
      }
    },
    {
      "cell_type": "code",
      "source": [
        "#Replace S3 with ones for Y(1)\n",
        "import pandas as pd\n",
        "import numpy as np\n",
        "\n",
        "y_pred = model.predict(x_test)\n",
        "y0_pred=model.predict(x_untreated)\n",
        "y1_pred=model.predict(x_treated)"
      ],
      "metadata": {
        "colab": {
          "base_uri": "https://localhost:8080/"
        },
        "id": "Y13WHxF01ZBO",
        "outputId": "31ac3f6a-a85c-4f9f-fd98-0b6ba2f5ef0e"
      },
      "execution_count": null,
      "outputs": [
        {
          "output_type": "stream",
          "name": "stdout",
          "text": [
            "938/938 [==============================] - 2s 2ms/step\n",
            "938/938 [==============================] - 1s 2ms/step\n"
          ]
        }
      ]
    },
    {
      "cell_type": "code",
      "source": [
        "#RMSE Model\n",
        "from sklearn.metrics import mean_squared_error\n",
        "from math import sqrt\n",
        "\n",
        "y_pred_f = scaler_l.inverse_transform(y_pred)\n",
        "y_pred_cf = scaler_l.inverse_transform(y_pred)\n",
        "y_test = scaler_l.inverse_transform(y_test)\n",
        "\n",
        "rmse = sqrt(mean_squared_error(y_test, y_pred))\n",
        "print('Test RMSE: %.3f' % rmse)"
      ],
      "metadata": {
        "colab": {
          "base_uri": "https://localhost:8080/"
        },
        "id": "fwFW5RLYVSv1",
        "outputId": "bfde56f9-0879-4cd9-ebfa-b36cbb0961c8"
      },
      "execution_count": null,
      "outputs": [
        {
          "output_type": "stream",
          "name": "stdout",
          "text": [
            "Test RMSE: 1.165\n"
          ]
        }
      ]
    },
    {
      "cell_type": "code",
      "source": [
        "#RMSE Treated\n",
        "y1_pred = scaler_l.inverse_transform(y1_pred)\n",
        "\n",
        "rmse = sqrt(mean_squared_error(cf[-30000:,0], y1_pred))\n",
        "print('Treated RMSE: %.3f' % rmse)"
      ],
      "metadata": {
        "colab": {
          "base_uri": "https://localhost:8080/"
        },
        "id": "DGUAwXUX_G1b",
        "outputId": "44e58a46-b139-4e68-ad45-d0f02c3c0e47"
      },
      "execution_count": null,
      "outputs": [
        {
          "output_type": "stream",
          "name": "stdout",
          "text": [
            "Treated RMSE: 1.017\n"
          ]
        }
      ]
    },
    {
      "cell_type": "code",
      "source": [
        "#RMSE Untreated\n",
        "y0_pred= scaler_l.inverse_transform(y0_pred)\n",
        "\n",
        "rmse = sqrt(mean_squared_error(cf[-30000:,1], y0_pred))\n",
        "print('Untreated RMSE: %.3f' % rmse)"
      ],
      "metadata": {
        "id": "9sVam8O0UsuU",
        "colab": {
          "base_uri": "https://localhost:8080/"
        },
        "outputId": "622952b8-4eef-4f63-d4f3-068faf9ca181"
      },
      "execution_count": null,
      "outputs": [
        {
          "output_type": "stream",
          "name": "stdout",
          "text": [
            "Untreated RMSE: 1.013\n"
          ]
        }
      ]
    },
    {
      "cell_type": "code",
      "source": [
        "cate_pred=(y1_pred-y0_pred).squeeze()\n",
        "cate_true=(cf[-30000:,0]-cf[-30000:,1]).squeeze()\n",
        "\n",
        "ate_pred=tf.reduce_mean(cate_pred)\n",
        "ate_true=tf.reduce_mean(cate_true)\n",
        "\n",
        "print(\"True ATE:\",ate_true.numpy())\n",
        "print(\"Estimated ATE:\",ate_pred.numpy())"
      ],
      "metadata": {
        "colab": {
          "base_uri": "https://localhost:8080/"
        },
        "id": "e02EiV97hSik",
        "outputId": "138d31da-a163-4297-985d-a6e2236dc891"
      },
      "execution_count": null,
      "outputs": [
        {
          "output_type": "stream",
          "name": "stdout",
          "text": [
            "True ATE: -0.5311836093880322\n",
            "Estimated ATE: -0.53628635\n"
          ]
        }
      ]
    },
    {
      "cell_type": "code",
      "source": [
        "#PEHE\n",
        "pehe=tf.reduce_mean( tf.square( ( cate_true - cate_pred) ) )\n",
        "sqrt_pehe=tf.sqrt(pehe).numpy()\n",
        "print(\"\\nSQRT PEHE:\",sqrt_pehe)"
      ],
      "metadata": {
        "colab": {
          "base_uri": "https://localhost:8080/"
        },
        "id": "Ve11ArLXXbIn",
        "outputId": "56dac45c-65a3-4cf9-8064-f91639e5af7e"
      },
      "execution_count": null,
      "outputs": [
        {
          "output_type": "stream",
          "name": "stdout",
          "text": [
            "\n",
            "SQRT PEHE: 0.12945024631958996\n"
          ]
        }
      ]
    }
  ]
}